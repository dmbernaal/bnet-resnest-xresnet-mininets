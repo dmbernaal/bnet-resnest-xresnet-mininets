{
 "cells": [
  {
   "cell_type": "code",
   "execution_count": 1,
   "metadata": {
    "execution": {
     "iopub.execute_input": "2020-12-08T05:02:16.144015Z",
     "iopub.status.busy": "2020-12-08T05:02:16.144015Z",
     "iopub.status.idle": "2020-12-08T05:02:16.585215Z",
     "shell.execute_reply": "2020-12-08T05:02:16.585215Z",
     "shell.execute_reply.started": "2020-12-08T05:02:16.144015Z"
    }
   },
   "outputs": [],
   "source": [
    "import torch\n",
    "import torch.optim as optim"
   ]
  },
  {
   "cell_type": "code",
   "execution_count": 2,
   "metadata": {
    "execution": {
     "iopub.execute_input": "2020-12-08T05:02:17.117370Z",
     "iopub.status.busy": "2020-12-08T05:02:17.117370Z",
     "iopub.status.idle": "2020-12-08T05:02:17.946027Z",
     "shell.execute_reply": "2020-12-08T05:02:17.946027Z",
     "shell.execute_reply.started": "2020-12-08T05:02:17.117370Z"
    }
   },
   "outputs": [],
   "source": [
    "from bnet.train import Learner\n",
    "from bnet.databunch import DataBunch\n",
    "from bnet.activations import Swish, Mila, Mish, BentID\n",
    "from bnet.models import mininest_ba, mininest_bn, mininet, xmininet, xsemininet"
   ]
  },
  {
   "cell_type": "code",
   "execution_count": 3,
   "metadata": {
    "execution": {
     "iopub.execute_input": "2020-12-08T05:02:17.946971Z",
     "iopub.status.busy": "2020-12-08T05:02:17.946971Z",
     "iopub.status.idle": "2020-12-08T05:02:17.950922Z",
     "shell.execute_reply": "2020-12-08T05:02:17.950922Z",
     "shell.execute_reply.started": "2020-12-08T05:02:17.946971Z"
    }
   },
   "outputs": [],
   "source": [
    "import torchvision.transforms as transforms"
   ]
  },
  {
   "cell_type": "code",
   "execution_count": 4,
   "metadata": {
    "execution": {
     "iopub.execute_input": "2020-12-08T05:02:17.951955Z",
     "iopub.status.busy": "2020-12-08T05:02:17.951955Z",
     "iopub.status.idle": "2020-12-08T05:02:17.956938Z",
     "shell.execute_reply": "2020-12-08T05:02:17.956938Z",
     "shell.execute_reply.started": "2020-12-08T05:02:17.951955Z"
    }
   },
   "outputs": [],
   "source": [
    "from bnet.optimizers import Ranger, Adahessian, Ralamb, RangerLars"
   ]
  },
  {
   "cell_type": "code",
   "execution_count": 5,
   "metadata": {
    "execution": {
     "iopub.execute_input": "2020-12-08T05:02:17.957903Z",
     "iopub.status.busy": "2020-12-08T05:02:17.957903Z",
     "iopub.status.idle": "2020-12-08T05:02:17.961916Z",
     "shell.execute_reply": "2020-12-08T05:02:17.961916Z",
     "shell.execute_reply.started": "2020-12-08T05:02:17.957903Z"
    }
   },
   "outputs": [],
   "source": [
    "import os\n",
    "from pathlib import Path\n",
    "import pandas as pd"
   ]
  },
  {
   "cell_type": "code",
   "execution_count": 6,
   "metadata": {
    "execution": {
     "iopub.execute_input": "2020-12-08T05:02:17.962889Z",
     "iopub.status.busy": "2020-12-08T05:02:17.962889Z",
     "iopub.status.idle": "2020-12-08T05:02:17.973860Z",
     "shell.execute_reply": "2020-12-08T05:02:17.973860Z",
     "shell.execute_reply.started": "2020-12-08T05:02:17.962889Z"
    }
   },
   "outputs": [],
   "source": [
    "def SEED_ALL(seed=42):\n",
    "    torch.manual_seed(seed)\n",
    "    torch.cuda.manual_seed(seed)"
   ]
  },
  {
   "cell_type": "code",
   "execution_count": 7,
   "metadata": {
    "execution": {
     "iopub.execute_input": "2020-12-08T05:02:18.155376Z",
     "iopub.status.busy": "2020-12-08T05:02:18.154377Z",
     "iopub.status.idle": "2020-12-08T05:02:18.161367Z",
     "shell.execute_reply": "2020-12-08T05:02:18.161367Z",
     "shell.execute_reply.started": "2020-12-08T05:02:18.154377Z"
    }
   },
   "outputs": [],
   "source": [
    "SEED_ALL(42)"
   ]
  },
  {
   "cell_type": "code",
   "execution_count": 8,
   "metadata": {
    "execution": {
     "iopub.execute_input": "2020-12-08T05:02:18.495272Z",
     "iopub.status.busy": "2020-12-08T05:02:18.495272Z",
     "iopub.status.idle": "2020-12-08T05:02:18.500270Z",
     "shell.execute_reply": "2020-12-08T05:02:18.500270Z",
     "shell.execute_reply.started": "2020-12-08T05:02:18.495272Z"
    }
   },
   "outputs": [],
   "source": [
    "tfms = transforms.Compose([\n",
    "    transforms.Resize((128, 128)),\n",
    "    transforms.RandomHorizontalFlip(p=0.2),\n",
    "    transforms.RandomVerticalFlip(p=0.4),\n",
    "    transforms.RandomCrop(128, 4),\n",
    "    transforms.ToTensor(),\n",
    "    transforms.Normalize(\n",
    "        mean=[0.485, 0.456, 0.406],\n",
    "        std=[0.229, 0.224, 0.225])\n",
    "])"
   ]
  },
  {
   "cell_type": "code",
   "execution_count": 9,
   "metadata": {
    "execution": {
     "iopub.execute_input": "2020-12-08T05:02:19.175139Z",
     "iopub.status.busy": "2020-12-08T05:02:19.174142Z",
     "iopub.status.idle": "2020-12-08T05:02:28.522652Z",
     "shell.execute_reply": "2020-12-08T05:02:28.522652Z",
     "shell.execute_reply.started": "2020-12-08T05:02:19.175139Z"
    }
   },
   "outputs": [
    {
     "name": "stdout",
     "output_type": "stream",
     "text": [
      "Removing grayscale from: train dataset\n"
     ]
    },
    {
     "data": {
      "application/vnd.jupyter.widget-view+json": {
       "model_id": "409052c8f99448fe9bea52b3a4dfcd4c",
       "version_major": 2,
       "version_minor": 0
      },
      "text/plain": [
       "HBox(children=(FloatProgress(value=0.0, max=9469.0), HTML(value='')))"
      ]
     },
     "metadata": {},
     "output_type": "display_data"
    },
    {
     "name": "stdout",
     "output_type": "stream",
     "text": [
      "\n",
      "Removing grayscale from: valid dataset\n"
     ]
    },
    {
     "data": {
      "application/vnd.jupyter.widget-view+json": {
       "model_id": "63c14bd2b2bf4191b65a98cb90d0211e",
       "version_major": 2,
       "version_minor": 0
      },
      "text/plain": [
       "HBox(children=(FloatProgress(value=0.0, max=3925.0), HTML(value='')))"
      ]
     },
     "metadata": {},
     "output_type": "display_data"
    },
    {
     "name": "stdout",
     "output_type": "stream",
     "text": [
      "\n"
     ]
    }
   ],
   "source": [
    "ROOT = Path('./data/imagenette2-160/')\n",
    "data = DataBunch(root=ROOT, bs=32, num_workers=0, tfms=tfms)"
   ]
  },
  {
   "cell_type": "markdown",
   "metadata": {},
   "source": [
    "## 3. mininet - bn with AdaHessian"
   ]
  },
  {
   "cell_type": "code",
   "execution_count": 15,
   "metadata": {
    "execution": {
     "iopub.execute_input": "2020-12-08T05:14:12.651144Z",
     "iopub.status.busy": "2020-12-08T05:14:12.650146Z",
     "iopub.status.idle": "2020-12-08T05:14:12.733923Z",
     "shell.execute_reply": "2020-12-08T05:14:12.732925Z",
     "shell.execute_reply.started": "2020-12-08T05:14:12.651144Z"
    }
   },
   "outputs": [],
   "source": [
    "# hyper params\n",
    "wd = 0.001\n",
    "lr = 1e-2\n",
    "betas = (0.9, 0.99)\n",
    "eps = 1e-6\n",
    "p = 0.2\n",
    "\n",
    "# creating model\n",
    "model = xsemininet(c_in=3, n_out=10, norm='bn', p=p, act_cls='mish')\n",
    "\n",
    "# selecting optimizer\n",
    "opt_fn = Adahessian(model.parameters(), lr=lr, weight_decay=wd, betas=betas, eps=eps)\n",
    "\n",
    "# cross entropy for loss\n",
    "loss_fn = torch.nn.CrossEntropyLoss()\n",
    "\n",
    "# creating learner\n",
    "learn = Learner(\n",
    "    data=data,\n",
    "    model=model,\n",
    "    opt_fn=opt_fn,\n",
    "    loss_fn=loss_fn,\n",
    "    lr=lr,\n",
    "    wd=wd\n",
    ")"
   ]
  },
  {
   "cell_type": "code",
   "execution_count": null,
   "metadata": {
    "execution": {
     "iopub.execute_input": "2020-12-08T05:14:12.818696Z",
     "iopub.status.busy": "2020-12-08T05:14:12.818696Z"
    }
   },
   "outputs": [
    {
     "data": {
      "application/vnd.jupyter.widget-view+json": {
       "model_id": "b5be1863cb884a8ea35d418721001eec",
       "version_major": 2,
       "version_minor": 0
      },
      "text/plain": [
       "HBox(children=(FloatProgress(value=0.0, max=5.0), HTML(value='')))"
      ]
     },
     "metadata": {},
     "output_type": "display_data"
    },
    {
     "data": {
      "application/vnd.jupyter.widget-view+json": {
       "model_id": "d27a348546bc4fce892ec81f87ac72a9",
       "version_major": 2,
       "version_minor": 0
      },
      "text/plain": [
       "HBox(children=(FloatProgress(value=0.0, max=291.0), HTML(value='')))"
      ]
     },
     "metadata": {},
     "output_type": "display_data"
    },
    {
     "data": {
      "application/vnd.jupyter.widget-view+json": {
       "model_id": "b47673412dae452d8eb5f2c144392d38",
       "version_major": 2,
       "version_minor": 0
      },
      "text/plain": [
       "HBox(children=(FloatProgress(value=0.0, max=121.0), HTML(value='')))"
      ]
     },
     "metadata": {},
     "output_type": "display_data"
    },
    {
     "name": "stderr",
     "output_type": "stream",
     "text": [
      "C:\\Users\\dmber\\Documents\\research\\bnet\\bnet\\optimizers\\adahessian.py:151: UserWarning: This overload of add_ is deprecated:\n",
      "\tadd_(Number alpha, Tensor other)\n",
      "Consider using one of the following signatures instead:\n",
      "\tadd_(Tensor other, *, Number alpha) (Triggered internally at  ..\\torch\\csrc\\utils\\python_arg_parser.cpp:766.)\n",
      "  exp_avg.mul_(beta1).add_(1 - beta1, grad)\n"
     ]
    },
    {
     "name": "stdout",
     "output_type": "stream",
     "text": [
      "Train loss: 1.759340, Train acc: 0.418460, Valid loss: 1.412886, Valid acc: 0.546162\n"
     ]
    }
   ],
   "source": [
    "learn.fit(5, ada=True)"
   ]
  },
  {
   "cell_type": "markdown",
   "metadata": {},
   "source": [
    "## 2. mininet - bnet + mish + RangerLars + FlatAnneal\n",
    "with data augmentation"
   ]
  },
  {
   "cell_type": "code",
   "execution_count": 33,
   "metadata": {
    "execution": {
     "iopub.execute_input": "2020-12-08T03:57:41.920972Z",
     "iopub.status.busy": "2020-12-08T03:57:41.920972Z",
     "iopub.status.idle": "2020-12-08T03:57:42.014724Z",
     "shell.execute_reply": "2020-12-08T03:57:42.013755Z",
     "shell.execute_reply.started": "2020-12-08T03:57:41.920972Z"
    }
   },
   "outputs": [],
   "source": [
    "# hyper params\n",
    "wd = 0.001\n",
    "lr = 1e-2\n",
    "betas = (0.9, 0.99)\n",
    "eps = 1e-6\n",
    "p = 0.2\n",
    "\n",
    "# creating model\n",
    "model = xsemininet(c_in=3, n_out=10, norm='bnet', p=p, act_cls='mish')\n",
    "\n",
    "# selecting optimizer\n",
    "opt_fn = RangerLars(model.parameters(), lr=lr, weight_decay=wd, betas=betas, eps=eps)\n",
    "\n",
    "# cross entropy for loss\n",
    "loss_fn = torch.nn.CrossEntropyLoss()\n",
    "\n",
    "# creating learner\n",
    "learn = Learner(\n",
    "    data=data,\n",
    "    model=model,\n",
    "    opt_fn=opt_fn,\n",
    "    loss_fn=loss_fn,\n",
    "    lr=lr,\n",
    "    wd=wd\n",
    ")"
   ]
  },
  {
   "cell_type": "code",
   "execution_count": 34,
   "metadata": {
    "execution": {
     "iopub.execute_input": "2020-12-08T03:57:42.499454Z",
     "iopub.status.busy": "2020-12-08T03:57:42.498455Z",
     "iopub.status.idle": "2020-12-08T04:04:03.773596Z",
     "shell.execute_reply": "2020-12-08T04:04:03.772598Z",
     "shell.execute_reply.started": "2020-12-08T03:57:42.499454Z"
    }
   },
   "outputs": [
    {
     "data": {
      "application/vnd.jupyter.widget-view+json": {
       "model_id": "5e86794b67c945c8ac6ceb6e970b2df0",
       "version_major": 2,
       "version_minor": 0
      },
      "text/plain": [
       "HBox(children=(FloatProgress(value=0.0, max=5.0), HTML(value='')))"
      ]
     },
     "metadata": {},
     "output_type": "display_data"
    },
    {
     "data": {
      "application/vnd.jupyter.widget-view+json": {
       "model_id": "",
       "version_major": 2,
       "version_minor": 0
      },
      "text/plain": [
       "HBox(children=(FloatProgress(value=0.0, max=291.0), HTML(value='')))"
      ]
     },
     "metadata": {},
     "output_type": "display_data"
    },
    {
     "data": {
      "application/vnd.jupyter.widget-view+json": {
       "model_id": "",
       "version_major": 2,
       "version_minor": 0
      },
      "text/plain": [
       "HBox(children=(FloatProgress(value=0.0, max=121.0), HTML(value='')))"
      ]
     },
     "metadata": {},
     "output_type": "display_data"
    },
    {
     "name": "stdout",
     "output_type": "stream",
     "text": [
      "Train loss: 1.450431, Train acc: 0.522375, Valid loss: 1.435270, Valid acc: 0.554720\n",
      "Train loss: 0.940998, Train acc: 0.693417, Valid loss: 0.749532, Valid acc: 0.756483\n",
      "Train loss: 0.723431, Train acc: 0.761833, Valid loss: 0.724620, Valid acc: 0.766598\n",
      "Train loss: 0.518572, Train acc: 0.830572, Valid loss: 0.584809, Valid acc: 0.817687\n",
      "Train loss: 0.376308, Train acc: 0.872849, Valid loss: 0.520356, Valid acc: 0.836618\n"
     ]
    }
   ],
   "source": [
    "learn.fit_flat_anneal(5)"
   ]
  },
  {
   "cell_type": "markdown",
   "metadata": {},
   "source": [
    "## 1. mininet - bnet + Mish + Ranger + One Cycle\n",
    "no data augmentations"
   ]
  },
  {
   "cell_type": "code",
   "execution_count": 10,
   "metadata": {
    "execution": {
     "iopub.execute_input": "2020-12-08T03:14:29.463795Z",
     "iopub.status.busy": "2020-12-08T03:14:29.463795Z",
     "iopub.status.idle": "2020-12-08T03:14:29.574499Z",
     "shell.execute_reply": "2020-12-08T03:14:29.573504Z",
     "shell.execute_reply.started": "2020-12-08T03:14:29.463795Z"
    }
   },
   "outputs": [
    {
     "name": "stdout",
     "output_type": "stream",
     "text": [
      "Ranger optimizer loaded. \n",
      "Gradient Centralization usage = True\n",
      "GC applied to both conv and fc layers\n"
     ]
    }
   ],
   "source": [
    "# hyper params\n",
    "wd = 0.001\n",
    "lr = 1e-2\n",
    "betas = (0.9, 0.99)\n",
    "eps = 1e-6\n",
    "p = 0.3\n",
    "\n",
    "# creating model\n",
    "model = xsemininet(c_in=3, n_out=10, norm='bnet', p=p, act_cls='mish')\n",
    "\n",
    "# selecting optimizer\n",
    "opt_fn = Ranger(model.parameters(), lr=lr, weight_decay=wd, betas=betas, eps=eps)\n",
    "\n",
    "# cross entropy for loss\n",
    "loss_fn = torch.nn.CrossEntropyLoss()\n",
    "\n",
    "# creating learner\n",
    "learn = Learner(\n",
    "    data=data,\n",
    "    model=model,\n",
    "    opt_fn=opt_fn,\n",
    "    loss_fn=loss_fn,\n",
    "    lr=lr,\n",
    "    wd=wd\n",
    ")"
   ]
  },
  {
   "cell_type": "code",
   "execution_count": 15,
   "metadata": {
    "execution": {
     "iopub.execute_input": "2020-12-08T02:51:11.969646Z",
     "iopub.status.busy": "2020-12-08T02:51:11.969646Z",
     "iopub.status.idle": "2020-12-08T02:51:22.318253Z",
     "shell.execute_reply": "2020-12-08T02:51:22.317256Z",
     "shell.execute_reply.started": "2020-12-08T02:51:11.969646Z"
    }
   },
   "outputs": [
    {
     "data": {
      "application/vnd.jupyter.widget-view+json": {
       "model_id": "50c5c624229d4adcb4258539460418d3",
       "version_major": 2,
       "version_minor": 0
      },
      "text/plain": [
       "HBox(children=(FloatProgress(value=0.0), HTML(value='')))"
      ]
     },
     "metadata": {},
     "output_type": "display_data"
    },
    {
     "name": "stdout",
     "output_type": "stream",
     "text": [
      "Stopping early, the loss has diverged\n",
      "\n",
      "Learning rate search finished. See the graph with {finder_name}.plot()\n",
      "\n"
     ]
    },
    {
     "data": {
      "image/png": "[encoded data removed]",
      "text/plain": [
       "<Figure size 432x288 with 1 Axes>"
      ]
     },
     "metadata": {
      "needs_background": "light"
     },
     "output_type": "display_data"
    },
    {
     "name": "stdout",
     "output_type": "stream",
     "text": [
      "set state called\n"
     ]
    }
   ],
   "source": [
    "learn.lr_finder()"
   ]
  },
  {
   "cell_type": "code",
   "execution_count": 11,
   "metadata": {
    "execution": {
     "iopub.execute_input": "2020-12-08T03:14:32.414899Z",
     "iopub.status.busy": "2020-12-08T03:14:32.414899Z",
     "iopub.status.idle": "2020-12-08T03:18:56.686155Z",
     "shell.execute_reply": "2020-12-08T03:18:56.685157Z",
     "shell.execute_reply.started": "2020-12-08T03:14:32.414899Z"
    }
   },
   "outputs": [
    {
     "data": {
      "application/vnd.jupyter.widget-view+json": {
       "model_id": "dde543d3500548289d50aa9ceff3d842",
       "version_major": 2,
       "version_minor": 0
      },
      "text/plain": [
       "HBox(children=(FloatProgress(value=0.0, max=5.0), HTML(value='')))"
      ]
     },
     "metadata": {},
     "output_type": "display_data"
    },
    {
     "data": {
      "application/vnd.jupyter.widget-view+json": {
       "model_id": "",
       "version_major": 2,
       "version_minor": 0
      },
      "text/plain": [
       "HBox(children=(FloatProgress(value=0.0, max=291.0), HTML(value='')))"
      ]
     },
     "metadata": {},
     "output_type": "display_data"
    },
    {
     "data": {
      "application/vnd.jupyter.widget-view+json": {
       "model_id": "",
       "version_major": 2,
       "version_minor": 0
      },
      "text/plain": [
       "HBox(children=(FloatProgress(value=0.0, max=121.0), HTML(value='')))"
      ]
     },
     "metadata": {},
     "output_type": "display_data"
    },
    {
     "name": "stdout",
     "output_type": "stream",
     "text": [
      "Train loss: 1.382863, Train acc: 0.537543, Valid loss: 1.039317, Valid acc: 0.659492\n",
      "Train loss: 0.914599, Train acc: 0.706756, Valid loss: 0.761907, Valid acc: 0.752075\n",
      "Train loss: 0.794965, Train acc: 0.742793, Valid loss: 1.026675, Valid acc: 0.687500\n",
      "Train loss: 0.671058, Train acc: 0.787758, Valid loss: 0.663165, Valid acc: 0.788122\n",
      "Train loss: 0.355354, Train acc: 0.884574, Valid loss: 0.531803, Valid acc: 0.831432\n"
     ]
    }
   ],
   "source": [
    "learn.fit_one_cycle(5)"
   ]
  },
  {
   "cell_type": "code",
   "execution_count": null,
   "metadata": {},
   "outputs": [],
   "source": []
  },
  {
   "cell_type": "code",
   "execution_count": null,
   "metadata": {},
   "outputs": [],
   "source": []
  },
  {
   "cell_type": "code",
   "execution_count": null,
   "metadata": {},
   "outputs": [],
   "source": []
  },
  {
   "cell_type": "code",
   "execution_count": null,
   "metadata": {},
   "outputs": [],
   "source": []
  },
  {
   "cell_type": "code",
   "execution_count": null,
   "metadata": {},
   "outputs": [],
   "source": []
  },
  {
   "cell_type": "code",
   "execution_count": null,
   "metadata": {},
   "outputs": [],
   "source": []
  },
  {
   "cell_type": "code",
   "execution_count": null,
   "metadata": {},
   "outputs": [],
   "source": []
  },
  {
   "cell_type": "code",
   "execution_count": null,
   "metadata": {},
   "outputs": [],
   "source": []
  },
  {
   "cell_type": "code",
   "execution_count": null,
   "metadata": {},
   "outputs": [],
   "source": []
  },
  {
   "cell_type": "code",
   "execution_count": null,
   "metadata": {},
   "outputs": [],
   "source": []
  }
 ],
 "metadata": {
  "kernelspec": {
   "display_name": "Python 3",
   "language": "python",
   "name": "python3"
  },
  "language_info": {
   "codemirror_mode": {
    "name": "ipython",
    "version": 3
   },
   "file_extension": ".py",
   "mimetype": "text/x-python",
   "name": "python",
   "nbconvert_exporter": "python",
   "pygments_lexer": "ipython3",
   "version": "3.7.3"
  }
 },
 "nbformat": 4,
 "nbformat_minor": 4
}
