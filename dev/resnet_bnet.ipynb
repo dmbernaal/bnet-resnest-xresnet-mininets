{
 "cells": [
  {
   "cell_type": "code",
   "execution_count": 2,
   "metadata": {
    "execution": {
     "iopub.execute_input": "2020-12-05T06:30:32.269008Z",
     "iopub.status.busy": "2020-12-05T06:30:32.268010Z",
     "iopub.status.idle": "2020-12-05T06:30:32.271033Z",
     "shell.execute_reply": "2020-12-05T06:30:32.271033Z",
     "shell.execute_reply.started": "2020-12-05T06:30:32.268010Z"
    }
   },
   "outputs": [],
   "source": [
    "import torch\n",
    "import torch.nn as nn\n",
    "import torch.nn.functional as F\n",
    "from collections import OrderedDict"
   ]
  },
  {
   "cell_type": "code",
   "execution_count": 16,
   "metadata": {
    "execution": {
     "iopub.execute_input": "2020-12-05T06:41:56.267554Z",
     "iopub.status.busy": "2020-12-05T06:41:56.266556Z",
     "iopub.status.idle": "2020-12-05T06:41:56.270275Z",
     "shell.execute_reply": "2020-12-05T06:41:56.270275Z",
     "shell.execute_reply.started": "2020-12-05T06:41:56.267554Z"
    }
   },
   "outputs": [],
   "source": [
    "from bnet.activations import Swish, Mila, Mish, BentID, get_activation_"
   ]
  },
  {
   "cell_type": "code",
   "execution_count": 17,
   "metadata": {
    "execution": {
     "iopub.execute_input": "2020-12-05T06:41:57.535773Z",
     "iopub.status.busy": "2020-12-05T06:41:57.534776Z",
     "iopub.status.idle": "2020-12-05T06:41:57.540769Z",
     "shell.execute_reply": "2020-12-05T06:41:57.539849Z",
     "shell.execute_reply.started": "2020-12-05T06:41:57.535773Z"
    }
   },
   "outputs": [],
   "source": [
    "\"\"\"\n",
    "bnet as shown in paper\n",
    "\"\"\"\n",
    "class BNET2d(nn.BatchNorm2d):\n",
    "    \"\"\"\n",
    "    To use, simply replace bn with BNET\n",
    "    \n",
    "    ::param width: number of input channels\n",
    "    ::param k: kernel size of the transformation\n",
    "    \"\"\"\n",
    "    def __init__(self, width, *args, k=3, **kwargs):\n",
    "        super(BNET2d, self).__init__(width, *args, affine=False, **kwargs)\n",
    "        self.bnconv = nn.Conv2d(width, width, k, padding=(k-1)//2, groups=width, bias=True)\n",
    "        \n",
    "    def forward(self, x):\n",
    "        return self.bnconv(super(BNET2d, self).forward(x))"
   ]
  },
  {
   "cell_type": "code",
   "execution_count": 18,
   "metadata": {
    "execution": {
     "iopub.execute_input": "2020-12-05T06:41:57.608591Z",
     "iopub.status.busy": "2020-12-05T06:41:57.607593Z",
     "iopub.status.idle": "2020-12-05T06:41:57.612587Z",
     "shell.execute_reply": "2020-12-05T06:41:57.612587Z",
     "shell.execute_reply.started": "2020-12-05T06:41:57.608591Z"
    }
   },
   "outputs": [],
   "source": [
    "def conv3x3(in_planes, out_planes, stride=1, groups=1, dilation=1):\n",
    "    \"\"\"3x3 conv with padding\"\"\"\n",
    "    return nn.Conv2d(in_planes, out_planes, kernel_size=3, stride=stride, padding=dilation, groups=groups, bias=False, dilation=dilation)\n",
    "\n",
    "def conv1x1(in_planes, out_planes, stride=1):\n",
    "    \"\"\"1x1 conv\"\"\"\n",
    "    return nn.Conv2d(in_planes, out_planes, kernel_size=1, stride=stride, bias=False)"
   ]
  },
  {
   "cell_type": "code",
   "execution_count": 19,
   "metadata": {
    "execution": {
     "iopub.execute_input": "2020-12-05T06:41:57.770837Z",
     "iopub.status.busy": "2020-12-05T06:41:57.770837Z",
     "iopub.status.idle": "2020-12-05T06:41:57.776823Z",
     "shell.execute_reply": "2020-12-05T06:41:57.776823Z",
     "shell.execute_reply.started": "2020-12-05T06:41:57.770837Z"
    }
   },
   "outputs": [],
   "source": [
    "def create_norm_(inplanes, norm_='bn', **kwargs):\n",
    "    norm_type_ = nn.ModuleDict([\n",
    "        ['bn', nn.BatchNorm2d(inplanes, **kwargs)],\n",
    "        ['gn', nn.GroupNorm(1, inplanes, **kwargs)],\n",
    "        ['bnet', BNET2d(width=inplanes, **kwargs)]\n",
    "    ])\n",
    "    return norm_type_[norm_]"
   ]
  },
  {
   "cell_type": "code",
   "execution_count": 20,
   "metadata": {
    "execution": {
     "iopub.execute_input": "2020-12-05T06:41:58.246890Z",
     "iopub.status.busy": "2020-12-05T06:41:58.246890Z",
     "iopub.status.idle": "2020-12-05T06:41:58.256168Z",
     "shell.execute_reply": "2020-12-05T06:41:58.255173Z",
     "shell.execute_reply.started": "2020-12-05T06:41:58.246890Z"
    }
   },
   "outputs": [],
   "source": [
    "def stem_block(in_c=3, inplanes=64, act='relu', norm='bn', ks=7, stride=2, padding=3):\n",
    "    \"\"\"\n",
    "    Basic stem. Created at the beginning of the ResNet Arch\n",
    "    \"\"\"\n",
    "    bias = False if norm=='bn' else True\n",
    "    stem = nn.Sequential(OrderedDict([\n",
    "        ('conv1', nn.Conv2d(in_c, inplanes, kernel_size=ks, stride=stride))\n",
    "    ]))\n",
    "    if norm is not None: stem.add_module(name='norm1', module=create_norm_(inplanes, norm))\n",
    "    stem.add_module(name='act', module=get_activation_(act, inplace=True))\n",
    "    stem.add_module(name='maxpool', module=nn.MaxPool2d(kernel_size=3, stride=2, padding=1))\n",
    "    return stem"
   ]
  },
  {
   "cell_type": "code",
   "execution_count": 21,
   "metadata": {
    "execution": {
     "iopub.execute_input": "2020-12-05T06:41:58.431696Z",
     "iopub.status.busy": "2020-12-05T06:41:58.431696Z",
     "iopub.status.idle": "2020-12-05T06:41:58.436680Z",
     "shell.execute_reply": "2020-12-05T06:41:58.435661Z",
     "shell.execute_reply.started": "2020-12-05T06:41:58.431696Z"
    }
   },
   "outputs": [],
   "source": [
    "class Flatten(nn.Module):\n",
    "    def __init__(self): super(Flatten, self).__init__()\n",
    "    def forward(self, x): return torch.flatten(x, 1)"
   ]
  },
  {
   "cell_type": "code",
   "execution_count": 22,
   "metadata": {
    "execution": {
     "iopub.execute_input": "2020-12-05T06:41:58.594888Z",
     "iopub.status.busy": "2020-12-05T06:41:58.594888Z",
     "iopub.status.idle": "2020-12-05T06:41:58.599878Z",
     "shell.execute_reply": "2020-12-05T06:41:58.598879Z",
     "shell.execute_reply.started": "2020-12-05T06:41:58.594888Z"
    }
   },
   "outputs": [],
   "source": [
    "def create_head(planes, num_classes):\n",
    "    \"\"\"\n",
    "    Basic head component. For classification or other various tasks\n",
    "    \"\"\"\n",
    "    return nn.Sequential(OrderedDict([\n",
    "        ['avgpool', nn.AdaptiveAvgPool2d((1,1))],\n",
    "        ['flatten', Flatten()],\n",
    "        ['fc', nn.Linear(planes, num_classes)]\n",
    "    ]))"
   ]
  },
  {
   "cell_type": "code",
   "execution_count": 23,
   "metadata": {
    "execution": {
     "iopub.execute_input": "2020-12-05T06:41:59.212969Z",
     "iopub.status.busy": "2020-12-05T06:41:59.211972Z",
     "iopub.status.idle": "2020-12-05T06:41:59.223003Z",
     "shell.execute_reply": "2020-12-05T06:41:59.223003Z",
     "shell.execute_reply.started": "2020-12-05T06:41:59.212969Z"
    }
   },
   "outputs": [],
   "source": [
    "class BasicBlock(nn.Module):\n",
    "    expansion = 1\n",
    "    def __init__(self, inplanes, planes, act='relu', norm='bn', stride=1, downsample=None, groups=1, base_width=64, dilation=1):\n",
    "        super(BasicBlock, self).__init__()\n",
    "        if groups != 1 or base_width != 64: raise ValueError('BasicBlock only supports groups=1 and base_width=64')\n",
    "        if dilation > 1: raise NotImplementedError('Dilation > 1 not supported in BasicBlock')\n",
    "        \n",
    "        self.conv1 = conv3x3(inplanes, planes, stride)\n",
    "        self.norm1 = None if norm is None else create_norm_(planes, norm)\n",
    "        self.act = get_activation_(act, inplace=True)\n",
    "        \n",
    "        self.conv2 = conv3x3(planes, planes)\n",
    "        self.norm2 = None if norm is None else create_norm_(planes, norm)\n",
    "        self.downsample = downsample\n",
    "        self.stride = stride\n",
    "        \n",
    "    def forward(self, x):\n",
    "        identity = x\n",
    "        \n",
    "        out = self.conv1(x)\n",
    "        if self.norm1: out = self.norm1(out)\n",
    "        out = self.act(out)\n",
    "        \n",
    "        out = self.conv2(out)\n",
    "        if self.norm2: out = self.norm2(out)\n",
    "        if self.downsample: identity = self.downsample(x)\n",
    "            \n",
    "        out += identity\n",
    "        out = self.act(out)\n",
    "        return out"
   ]
  },
  {
   "cell_type": "code",
   "execution_count": 43,
   "metadata": {
    "execution": {
     "iopub.execute_input": "2020-12-05T06:49:21.601593Z",
     "iopub.status.busy": "2020-12-05T06:49:21.601593Z",
     "iopub.status.idle": "2020-12-05T06:49:21.619432Z",
     "shell.execute_reply": "2020-12-05T06:49:21.619432Z",
     "shell.execute_reply.started": "2020-12-05T06:49:21.601593Z"
    }
   },
   "outputs": [],
   "source": [
    "class ResNet(nn.Module):\n",
    "    def __init__(self, block, layers, act='relu', norm='bn', in_c=3, stem_ks=7, num_classes=1000, zero_init_residual=False, init_method='kaiming_normal', mode='fan_out', groups=1, width_per_group=64, replace_stride_with_dilation=None):\n",
    "        super(ResNet, self).__init__()\n",
    "        \n",
    "        self._norm_layer = norm\n",
    "        self._act_fn = act\n",
    "        self.inplanes = 64\n",
    "        self.dilation = 1\n",
    "        \n",
    "        if replace_stride_with_dilation is None: replace_stride_with_dilation = [False, False, False]\n",
    "        if len(replace_stride_with_dilation) != 3:\n",
    "            raise ValueError('replace_stride_with_dilation should be a 3-element tuple')\n",
    "            \n",
    "        self.groups = groups\n",
    "        self.base_width = width_per_group\n",
    "        \n",
    "        # Add more inits\n",
    "        self._inits = {'kaiming_normal': nn.init.kaiming_normal_, 'kaiming_uniform': nn.init.kaiming_uniform_}\n",
    "        \n",
    "        # layers\n",
    "        self.stem = stem_block(in_c=in_c, inplanes=self.inplanes, act=act, norm=norm, ks=stem_ks)\n",
    "        self.body = nn.Sequential(OrderedDict([\n",
    "            ['layer1', self._make_layer(block, 64, layers[0])],\n",
    "            ['layer2', self._make_layer(block, 128, layers[1], stride=2, dilate=replace_stride_with_dilation[0])],\n",
    "            ['layer3', self._make_layer(block, 256, layers[2], stride=2, dilate=replace_stride_with_dilation[1])],\n",
    "            ['layer4', self._make_layer(block, 512, layers[3], stride=2, dilate=replace_stride_with_dilation[2])]\n",
    "        ]))\n",
    "        self.head = create_head(512 * block.expansion, num_classes)\n",
    "        \n",
    "        # weight init\n",
    "        self.init_model_(init_method, mode)\n",
    "        if zero_init_residual and norm=='bn': self.zero_init_residual_()\n",
    "            \n",
    "    def _make_layer(self, block, planes, blocks, stride=1, dilate=False):\n",
    "        norm_layer = self._norm_layer\n",
    "        act_fn = self._act_fn\n",
    "        downsample = None\n",
    "        previous_dilation = self.dilation\n",
    "        \n",
    "        if dilate:\n",
    "            self.dilation *= stride\n",
    "            stride = 1\n",
    "        if stride != 1 or self.inplanes != planes * block.expansion:\n",
    "            downsample = nn.Sequential(OrderedDict([\n",
    "                ['0', conv1x1(self.inplanes, planes * block.expansion, stride)]\n",
    "            ]))\n",
    "            if norm_layer:\n",
    "                downsample.add_module(\n",
    "                    name='1',\n",
    "                    module=create_norm_(planes * block.expansion, norm_layer)\n",
    "                )\n",
    "        layers = []\n",
    "        layers.append(block(self.inplanes, planes, act_fn, norm_layer, stride, downsample, self.groups, self.base_width, previous_dilation))\n",
    "        \n",
    "        self.inplanes = planes * block.expansion\n",
    "        \n",
    "        for _ in range(1, blocks):\n",
    "            layers.append(block(self.inplanes, planes, act_fn, norm_layer, groups=self.groups, base_width=self.base_width, dilation=self.dilation))\n",
    "            \n",
    "        return nn.Sequential(*layers)\n",
    "    \n",
    "    def init_model_(self, init_method='kaiming_normal', mode='fan_out'):\n",
    "        init = self._inits[init_method]\n",
    "        for m in self.modules():\n",
    "            if isinstance(m, nn.Conv2d):\n",
    "                if self._act_fn == 'relu': init(m.weight, mode=mode, nonlinearity=self._act_fn)\n",
    "                else: init(m.weight, mode=mode)\n",
    "            elif isinstance(m, (nn.BatchNorm2d, nn.GroupNorm)):\n",
    "                try: nn.init.constant_(m.weight, 1)\n",
    "                except: pass\n",
    "                try: nn.init.constant_(m.bias, 0)\n",
    "                except: pass\n",
    "                \n",
    "    def zero_init_residual_(self):\n",
    "        for m in self.body.modules():\n",
    "            if isinstance(m, BasicBlock): nn.init.constant_(m.norm3.weigth, 0)\n",
    "                \n",
    "    def forward(self, x):\n",
    "        x = self.stem(x)\n",
    "        x = self.body(x)\n",
    "        x = self.head(x)\n",
    "        return x"
   ]
  },
  {
   "cell_type": "code",
   "execution_count": 44,
   "metadata": {
    "execution": {
     "iopub.execute_input": "2020-12-05T06:49:21.755673Z",
     "iopub.status.busy": "2020-12-05T06:49:21.755673Z",
     "iopub.status.idle": "2020-12-05T06:49:21.758632Z",
     "shell.execute_reply": "2020-12-05T06:49:21.758632Z",
     "shell.execute_reply.started": "2020-12-05T06:49:21.755673Z"
    }
   },
   "outputs": [],
   "source": [
    "def _resnet(block, layers, **kwargs):\n",
    "    model = ResNet(block, layers, **kwargs)\n",
    "    return model"
   ]
  },
  {
   "cell_type": "code",
   "execution_count": 45,
   "metadata": {
    "execution": {
     "iopub.execute_input": "2020-12-05T06:49:22.271254Z",
     "iopub.status.busy": "2020-12-05T06:49:22.271254Z",
     "iopub.status.idle": "2020-12-05T06:49:22.276241Z",
     "shell.execute_reply": "2020-12-05T06:49:22.275243Z",
     "shell.execute_reply.started": "2020-12-05T06:49:22.271254Z"
    }
   },
   "outputs": [],
   "source": [
    "def mininet(in_c, num_classes=1000, **kwargs): return _resnet(BasicBlock, [1,1,1,1], in_c=in_c, num_classes=num_classes, **kwargs)"
   ]
  },
  {
   "cell_type": "code",
   "execution_count": 46,
   "metadata": {
    "execution": {
     "iopub.execute_input": "2020-12-05T06:49:22.561659Z",
     "iopub.status.busy": "2020-12-05T06:49:22.561659Z",
     "iopub.status.idle": "2020-12-05T06:49:22.652383Z",
     "shell.execute_reply": "2020-12-05T06:49:22.652383Z",
     "shell.execute_reply.started": "2020-12-05T06:49:22.561659Z"
    }
   },
   "outputs": [],
   "source": [
    "m = mininet(3, 10, norm='bnet')"
   ]
  },
  {
   "cell_type": "code",
   "execution_count": null,
   "metadata": {},
   "outputs": [],
   "source": []
  },
  {
   "cell_type": "code",
   "execution_count": null,
   "metadata": {},
   "outputs": [],
   "source": []
  },
  {
   "cell_type": "code",
   "execution_count": null,
   "metadata": {},
   "outputs": [],
   "source": []
  },
  {
   "cell_type": "code",
   "execution_count": null,
   "metadata": {},
   "outputs": [],
   "source": []
  },
  {
   "cell_type": "code",
   "execution_count": null,
   "metadata": {},
   "outputs": [],
   "source": []
  },
  {
   "cell_type": "code",
   "execution_count": null,
   "metadata": {},
   "outputs": [],
   "source": []
  },
  {
   "cell_type": "code",
   "execution_count": null,
   "metadata": {},
   "outputs": [],
   "source": []
  },
  {
   "cell_type": "code",
   "execution_count": null,
   "metadata": {},
   "outputs": [],
   "source": []
  },
  {
   "cell_type": "code",
   "execution_count": null,
   "metadata": {},
   "outputs": [],
   "source": []
  },
  {
   "cell_type": "code",
   "execution_count": null,
   "metadata": {},
   "outputs": [],
   "source": []
  },
  {
   "cell_type": "code",
   "execution_count": null,
   "metadata": {},
   "outputs": [],
   "source": []
  },
  {
   "cell_type": "code",
   "execution_count": null,
   "metadata": {},
   "outputs": [],
   "source": []
  },
  {
   "cell_type": "code",
   "execution_count": null,
   "metadata": {},
   "outputs": [],
   "source": []
  }
 ],
 "metadata": {
  "kernelspec": {
   "display_name": "Python 3",
   "language": "python",
   "name": "python3"
  },
  "language_info": {
   "codemirror_mode": {
    "name": "ipython",
    "version": 3
   },
   "file_extension": ".py",
   "mimetype": "text/x-python",
   "name": "python",
   "nbconvert_exporter": "python",
   "pygments_lexer": "ipython3",
   "version": "3.7.3"
  }
 },
 "nbformat": 4,
 "nbformat_minor": 4
}
