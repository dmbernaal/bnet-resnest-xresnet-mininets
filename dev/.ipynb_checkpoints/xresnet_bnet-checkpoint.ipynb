{
 "cells": [
  {
   "cell_type": "code",
   "execution_count": 1,
   "metadata": {
    "execution": {
     "iopub.execute_input": "2020-12-07T04:08:11.731485Z",
     "iopub.status.busy": "2020-12-07T04:08:11.731485Z",
     "iopub.status.idle": "2020-12-07T04:08:12.371629Z",
     "shell.execute_reply": "2020-12-07T04:08:12.371629Z",
     "shell.execute_reply.started": "2020-12-07T04:08:11.731485Z"
    }
   },
   "outputs": [],
   "source": [
    "import torch\n",
    "import torch.nn as nn\n",
    "import torch.nn.functional as F\n",
    "from torch.nn.utils import spectral_norm\n",
    "from fastcore import foundation as fd\n",
    "import math"
   ]
  },
  {
   "cell_type": "code",
   "execution_count": 2,
   "metadata": {
    "execution": {
     "iopub.execute_input": "2020-12-07T04:08:12.372605Z",
     "iopub.status.busy": "2020-12-07T04:08:12.372605Z",
     "iopub.status.idle": "2020-12-07T04:08:12.391520Z",
     "shell.execute_reply": "2020-12-07T04:08:12.390546Z",
     "shell.execute_reply.started": "2020-12-07T04:08:12.372605Z"
    }
   },
   "outputs": [],
   "source": [
    "from bnet.bnet import BNET2d\n",
    "from bnet.activations import Swish, Mila, Mish, BentID, get_activation_"
   ]
  },
  {
   "cell_type": "code",
   "execution_count": 3,
   "metadata": {
    "execution": {
     "iopub.execute_input": "2020-12-07T04:08:12.392525Z",
     "iopub.status.busy": "2020-12-07T04:08:12.392525Z",
     "iopub.status.idle": "2020-12-07T04:08:12.397502Z",
     "shell.execute_reply": "2020-12-07T04:08:12.396506Z",
     "shell.execute_reply.started": "2020-12-07T04:08:12.392525Z"
    }
   },
   "outputs": [],
   "source": [
    "delegates = fd.delegates"
   ]
  },
  {
   "cell_type": "code",
   "execution_count": 4,
   "metadata": {
    "execution": {
     "iopub.execute_input": "2020-12-07T04:08:12.849842Z",
     "iopub.status.busy": "2020-12-07T04:08:12.848844Z",
     "iopub.status.idle": "2020-12-07T04:08:12.853823Z",
     "shell.execute_reply": "2020-12-07T04:08:12.853823Z",
     "shell.execute_reply.started": "2020-12-07T04:08:12.848844Z"
    }
   },
   "outputs": [],
   "source": [
    "def create_norm_(inplanes, norm_='bn', **kwargs):\n",
    "    norm_type_ = nn.ModuleDict([\n",
    "        ['bn', nn.BatchNorm2d(inplanes, **kwargs)],\n",
    "        ['gn', nn.GroupNorm(1, inplanes, **kwargs)],\n",
    "        ['bnet', BNET2d(width=inplanes, **kwargs)]\n",
    "    ])\n",
    "    return norm_type_[norm_]"
   ]
  },
  {
   "cell_type": "code",
   "execution_count": 5,
   "metadata": {
    "execution": {
     "iopub.execute_input": "2020-12-07T04:08:13.007375Z",
     "iopub.status.busy": "2020-12-07T04:08:13.006378Z",
     "iopub.status.idle": "2020-12-07T04:08:13.014389Z",
     "shell.execute_reply": "2020-12-07T04:08:13.013385Z",
     "shell.execute_reply.started": "2020-12-07T04:08:13.007375Z"
    }
   },
   "outputs": [],
   "source": [
    "def AvgPool(ks=2, stride=None, padding=0, ceil_mode=False):\n",
    "    return nn.AvgPool2d(ks, stride=stride, padding=padding, ceil_mode=ceil_mode)\n",
    "\n",
    "def MaxPool(ks=2, stride=None, padding=0, ceil_mode=False):\n",
    "    return nn.MaxPool2d(ks, stride=stride, padding=padding)\n",
    "\n",
    "def AdaptiveAvgPool(sz=1):\n",
    "    return nn.AdaptiveAvgPool2d(sz)\n",
    "\n",
    "class Flatten(nn.Module):\n",
    "    def forward(self, x): return x.view(x.size(0), -1)"
   ]
  },
  {
   "cell_type": "code",
   "execution_count": 6,
   "metadata": {
    "execution": {
     "iopub.execute_input": "2020-12-07T04:08:13.221775Z",
     "iopub.status.busy": "2020-12-07T04:08:13.221775Z",
     "iopub.status.idle": "2020-12-07T04:08:13.228779Z",
     "shell.execute_reply": "2020-12-07T04:08:13.227758Z",
     "shell.execute_reply.started": "2020-12-07T04:08:13.221775Z"
    }
   },
   "outputs": [],
   "source": [
    "def init_cnn(m):\n",
    "    if getattr(m, 'bias', None) is not None: nn.init.constant_(m.bias, 0)\n",
    "    if isinstance(m, (nn.Conv2d, nn.Conv1d, nn.Linear)): nn.init.kaiming_normal_(m.weight)\n",
    "    for l in m.children(): init_cnn(l)"
   ]
  },
  {
   "cell_type": "code",
   "execution_count": 7,
   "metadata": {
    "execution": {
     "iopub.execute_input": "2020-12-07T04:08:13.367885Z",
     "iopub.status.busy": "2020-12-07T04:08:13.366887Z",
     "iopub.status.idle": "2020-12-07T04:08:13.373865Z",
     "shell.execute_reply": "2020-12-07T04:08:13.372868Z",
     "shell.execute_reply.started": "2020-12-07T04:08:13.367885Z"
    }
   },
   "outputs": [],
   "source": [
    "def SEBlock(expansion, ni, nf, reduction=16, stride=1, **kwargs):\n",
    "    return ResBlock(expansion, ni, nf, stride=stride, reduction=reduction, nh1=nf*2, nh2=nf*expansion, **kwargs)"
   ]
  },
  {
   "cell_type": "code",
   "execution_count": 8,
   "metadata": {
    "execution": {
     "iopub.execute_input": "2020-12-07T04:08:13.479086Z",
     "iopub.status.busy": "2020-12-07T04:08:13.479086Z",
     "iopub.status.idle": "2020-12-07T04:08:13.485069Z",
     "shell.execute_reply": "2020-12-07T04:08:13.485069Z",
     "shell.execute_reply.started": "2020-12-07T04:08:13.479086Z"
    }
   },
   "outputs": [],
   "source": [
    "class SequentialEx(nn.Module):\n",
    "    \"\"\"\n",
    "    Like nn.sequential but with ModuleList semantics sand can access module input\n",
    "    \"\"\"\n",
    "    def __init__(self, *layers): \n",
    "        super(SequentialEx, self).__init__()\n",
    "        self.layers = nn.ModuleList(layers)\n",
    "    \n",
    "    def forward(self, x):\n",
    "        res = x\n",
    "        for l in self.layers:\n",
    "            res.orig = x\n",
    "            nres = l(res)\n",
    "            res.orig = None\n",
    "            res = nres\n",
    "        return res\n",
    "    \n",
    "    def __getitem__(self, i): return self.layers[i]\n",
    "    def append(self, l): return self.layers.append(l)\n",
    "    def extend(self, l): return self.layers.extend(l)\n",
    "    def insert(self, i, l): return self.layers.insert(i,l)"
   ]
  },
  {
   "cell_type": "code",
   "execution_count": 9,
   "metadata": {
    "execution": {
     "iopub.execute_input": "2020-12-07T04:08:13.608786Z",
     "iopub.status.busy": "2020-12-07T04:08:13.608786Z",
     "iopub.status.idle": "2020-12-07T04:08:13.612775Z",
     "shell.execute_reply": "2020-12-07T04:08:13.612775Z",
     "shell.execute_reply.started": "2020-12-07T04:08:13.608786Z"
    }
   },
   "outputs": [],
   "source": [
    "class ProdLayer(nn.Module):\n",
    "    def __init__(self): \n",
    "        super(ProdLayer, self).__init__()\n",
    "        pass\n",
    "    def forward(self, x): return x * x.orig"
   ]
  },
  {
   "cell_type": "code",
   "execution_count": 21,
   "metadata": {
    "execution": {
     "iopub.execute_input": "2020-12-07T04:11:40.821094Z",
     "iopub.status.busy": "2020-12-07T04:11:40.820123Z",
     "iopub.status.idle": "2020-12-07T04:11:40.825114Z",
     "shell.execute_reply": "2020-12-07T04:11:40.825114Z",
     "shell.execute_reply.started": "2020-12-07T04:11:40.821094Z"
    }
   },
   "outputs": [],
   "source": [
    "def SEModule(ch, reduction, norm='bn', act_cls='relu'):\n",
    "    nf = math.ceil(ch//reduction/8)*8\n",
    "    return SequentialEx(\n",
    "        nn.AdaptiveAvgPool2d(1),\n",
    "        ConvLayer(ch, nf, ks=1, norm=norm, act_cls=act_cls),\n",
    "        ConvLayer(nf, ch, ks=1, norm=norm, act_cls='sigmoid'),\n",
    "        ProdLayer()\n",
    "    )"
   ]
  },
  {
   "cell_type": "code",
   "execution_count": 22,
   "metadata": {
    "execution": {
     "iopub.execute_input": "2020-12-07T04:11:41.049453Z",
     "iopub.status.busy": "2020-12-07T04:11:41.048488Z",
     "iopub.status.idle": "2020-12-07T04:11:41.053439Z",
     "shell.execute_reply": "2020-12-07T04:11:41.053439Z",
     "shell.execute_reply.started": "2020-12-07T04:11:41.048488Z"
    }
   },
   "outputs": [],
   "source": [
    "def _conv1d_spect(ni, no, ks=1, stride=1, padding=0, bias=False):\n",
    "    \"\"\"\n",
    "    Create and init a conv1d layer with spectral normalization\n",
    "    \"\"\"\n",
    "    conv = nn.Conv1d(ni, no, ks, stride=stride, padding=padding, bias=bias)\n",
    "    nn.init.kaiming_normal_(conv.weight)\n",
    "    if bias: conv.bias.data.zero_()\n",
    "    return spectral_norm(conv)"
   ]
  },
  {
   "cell_type": "code",
   "execution_count": 23,
   "metadata": {
    "execution": {
     "iopub.execute_input": "2020-12-07T04:11:41.112278Z",
     "iopub.status.busy": "2020-12-07T04:11:41.111332Z",
     "iopub.status.idle": "2020-12-07T04:11:41.121252Z",
     "shell.execute_reply": "2020-12-07T04:11:41.120254Z",
     "shell.execute_reply.started": "2020-12-07T04:11:41.112278Z"
    }
   },
   "outputs": [],
   "source": [
    "class SimpleSelfAttention(nn.Module):\n",
    "    def __init__(self, n_in, ks=1, sym=False):\n",
    "        super(SimpleSelfAttention, self).__init__()\n",
    "        self.sym, self.n_in = sym, n_in\n",
    "        self.conv = _conv1d_spect(n_in, n_in, ks, padding=ks//2, bias=False)\n",
    "        self.gamma = nn.Parameter(torch.tensor([0.]))\n",
    "        \n",
    "    def forward(self, x):\n",
    "        if self.sym:\n",
    "            c = self.conv.weight.view(self.n_in, self.n_in)\n",
    "            c = (c + c.t())/2\n",
    "            self.conv.weight = c.view(self.n_in, self.n_in, 1)\n",
    "        \n",
    "        size = x.size()\n",
    "        x = x.view(*size[:2], -1)\n",
    "        \n",
    "        convx = self.conv(x)\n",
    "        xxT = torch.bmm(x, x.permute(0,2,1).contiguous())\n",
    "        o = torch.bmm(xxt, convx)\n",
    "        o = self.gamma * o + x\n",
    "        return o.view(*size).contiguous()"
   ]
  },
  {
   "cell_type": "code",
   "execution_count": 24,
   "metadata": {
    "execution": {
     "iopub.execute_input": "2020-12-07T04:11:41.241974Z",
     "iopub.status.busy": "2020-12-07T04:11:41.241974Z",
     "iopub.status.idle": "2020-12-07T04:11:41.249958Z",
     "shell.execute_reply": "2020-12-07T04:11:41.249958Z",
     "shell.execute_reply.started": "2020-12-07T04:11:41.241974Z"
    }
   },
   "outputs": [],
   "source": [
    "class ConvLayer(nn.Sequential):\n",
    "    \"\"\"\n",
    "    Creates a sequence of Conv, Act, Norm\n",
    "    \"\"\"\n",
    "    @delegates(nn.Conv2d)\n",
    "    def __init__(self, ni, nf, ks=3, stride=1, padding=None, bias=None, norm='bn', bn_1st=True, act_cls='relu', init='auto', xtra=None, bias_std=0.01, **kwargs):\n",
    "        if padding is None: padding = ((ks-1)//2)\n",
    "        norm = create_norm_(nf, norm_=norm)\n",
    "        bias = None if not (not norm) else bias\n",
    "        conv = nn.Conv2d(ni, nf, kernel_size=ks, bias=bias, stride=stride, padding=padding, **kwargs)\n",
    "        act = get_activation_(act_cls) if act_cls is not None else None\n",
    "        layers = [conv]\n",
    "        act_bn = []\n",
    "        if act is not None: act_bn.append(act)\n",
    "        if norm: act_bn.append(norm)\n",
    "        if bn_1st: act_bn.reverse()\n",
    "        layers+=act_bn\n",
    "        if xtra: layers.append(xtra)\n",
    "        super().__init__(*layers)"
   ]
  },
  {
   "cell_type": "code",
   "execution_count": 37,
   "metadata": {
    "execution": {
     "iopub.execute_input": "2020-12-07T04:15:32.583064Z",
     "iopub.status.busy": "2020-12-07T04:15:32.583064Z",
     "iopub.status.idle": "2020-12-07T04:15:32.593400Z",
     "shell.execute_reply": "2020-12-07T04:15:32.593400Z",
     "shell.execute_reply.started": "2020-12-07T04:15:32.583064Z"
    }
   },
   "outputs": [],
   "source": [
    "class ResBlock(nn.Module):\n",
    "    \"\"\"\n",
    "    Resnet block from ni to nh with stride\n",
    "    \"\"\"\n",
    "    @delegates(ConvLayer.__init__)\n",
    "    def __init__(self, expansion, ni, nf, stride=1, groups=1, reduction=None, nh1=None, nh2=None, dw=False, g2=1, sa=False, sym=False, norm='bn', act_cls='relu', ks=3, pool_first=True, **kwargs):\n",
    "        super(ResBlock, self).__init__()\n",
    "        norm1 = norm2 = norm\n",
    "        pool = AvgPool\n",
    "        if nh2 is None: nh2 = nf\n",
    "        if nh1 is None: nh1 = nh2\n",
    "        nf, ni = nf*expansion, ni*expansion\n",
    "        k0 = dict(norm=norm1, act_cls=act_cls, **kwargs)\n",
    "        k1 = dict(norm=norm2, act_cls=None, **kwargs)\n",
    "        conv_path = [\n",
    "            ConvLayer(ni, nh2, ks, stride=stride, **k0),\n",
    "            ConvLayer(nh2, nf, ks, **k1)\n",
    "        ] if expansion == 1 else [\n",
    "            ConvLayer(ni, nh1, 1, **k0),\n",
    "            ConvLayer(nh1, nh2, ks, stride=stride, **k0),\n",
    "            ConvLayer(nh2, nf, 1, **k1)]\n",
    "        if reduction: conv_path.append(SEModule(nf, reduction=reduction, norm=norm, act_cls=act_cls))\n",
    "        if sa: conv_path.append(SimpleSelfAttention(nf, ks=1, sym=sym))\n",
    "        self.conv_path = nn.Sequential(*conv_path)\n",
    "        id_path = []\n",
    "        if ni!=nf: id_path.append(ConvLayer(ni, nf, 1, norm=norm, act_cls=None, **kwargs))\n",
    "        if stride!=1: id_path.insert((1,0)[pool_first], pool(stride, ceil_mode=True))\n",
    "        self.id_path = nn.Sequential(*id_path)\n",
    "        self.act = get_activation_('relu', inplace=True) if act_cls=='relu' else create_norm_(act_cls)\n",
    "        \n",
    "    def forward(self, x): return self.act(self.conv_path(x) + self.id_path(x))"
   ]
  },
  {
   "cell_type": "code",
   "execution_count": 38,
   "metadata": {
    "execution": {
     "iopub.execute_input": "2020-12-07T04:15:32.724002Z",
     "iopub.status.busy": "2020-12-07T04:15:32.724002Z",
     "iopub.status.idle": "2020-12-07T04:15:32.735993Z",
     "shell.execute_reply": "2020-12-07T04:15:32.735993Z",
     "shell.execute_reply.started": "2020-12-07T04:15:32.724002Z"
    }
   },
   "outputs": [],
   "source": [
    "class XResNet(nn.Sequential):\n",
    "    @delegates(ResBlock)\n",
    "    def __init__(self, block, expansion, layers, p=0.0, c_in=3, n_out=1000, stem_szs=(32, 32, 64), widen=1.0, sa=False, norm='bn', act_cls='relu', ks=3, stride=2, **kwargs):\n",
    "        self.block, self.expansion, self.act_cls, self.ks = block, expansion, act_cls, ks\n",
    "        if ks%2==0: raise Exception('Kernel size has to be odd')\n",
    "        self.norm = norm\n",
    "        stem_szs = [c_in, *stem_szs]\n",
    "        stem = [ConvLayer(stem_szs[i], stem_szs[i+1], ks=ks, stride=stride if i==0 else 1, norm=norm, act_cls=act_cls)\n",
    "                for i in range(3)]\n",
    "        \n",
    "        block_szs = [int(o*widen) for o in [64,128,256,512] +[256]*(len(layers)-4)]\n",
    "        block_szs = [64//expansion] + block_szs\n",
    "        blocks = self._make_blocks(layers, block_szs, sa, stride, **kwargs)\n",
    "        \n",
    "        super().__init__(\n",
    "            *stem, MaxPool(ks=ks, stride=stride, padding=ks//2),\n",
    "            *blocks,\n",
    "            AdaptiveAvgPool(sz=1), Flatten(), nn.Dropout(p),\n",
    "            nn.Linear(block_szs[-1]*expansion, n_out),\n",
    "        )\n",
    "        init_cnn(self)\n",
    "        \n",
    "    def _make_blocks(self, layers, block_szs, sa, stride, **kwargs):\n",
    "        return [self._make_layer(ni=block_szs[i], nf=block_szs[i+1], blocks=l,\n",
    "                                 stride=1 if i==0 else stride, sa=sa and i==len(layers)-4, **kwargs)\n",
    "                                 for i,l in enumerate(layers)]\n",
    "    \n",
    "    def _make_layer(self, ni, nf, blocks, stride, sa, **kwargs):\n",
    "        return nn.Sequential(\n",
    "            *[self.block(self.expansion, ni if i==0 else nf, nf, stride=stride if i==0 else 1,\n",
    "                         sa=sa and i==(blocks-1), norm=self.norm, act_cls=self.act_cls, ks=self.ks, **kwargs)\n",
    "                         for i in range(blocks)])"
   ]
  },
  {
   "cell_type": "code",
   "execution_count": 39,
   "metadata": {
    "execution": {
     "iopub.execute_input": "2020-12-07T04:15:32.852672Z",
     "iopub.status.busy": "2020-12-07T04:15:32.852672Z",
     "iopub.status.idle": "2020-12-07T04:15:32.857628Z",
     "shell.execute_reply": "2020-12-07T04:15:32.857628Z",
     "shell.execute_reply.started": "2020-12-07T04:15:32.852672Z"
    }
   },
   "outputs": [],
   "source": [
    "def _xresnet(expansion, layers, **kwargs):\n",
    "    res = XResNet(ResBlock, expansion, layers, **kwargs)\n",
    "    return res\n",
    "    \n",
    "def _xseresnet(expansion, layers, **kwargs):\n",
    "    res = XResNet(SEBlock, expansion, layers, **kwargs)\n",
    "    return res"
   ]
  },
  {
   "cell_type": "code",
   "execution_count": 40,
   "metadata": {
    "execution": {
     "iopub.execute_input": "2020-12-07T04:15:32.942391Z",
     "iopub.status.busy": "2020-12-07T04:15:32.942391Z",
     "iopub.status.idle": "2020-12-07T04:15:32.946378Z",
     "shell.execute_reply": "2020-12-07T04:15:32.946378Z",
     "shell.execute_reply.started": "2020-12-07T04:15:32.942391Z"
    }
   },
   "outputs": [],
   "source": [
    "def xmininet(c_in=3, n_out=1000, **kwargs):\n",
    "    layers = [1, 1, 1, 1]\n",
    "    return _xresnet(1, layers, c_in=c_in, n_out=n_out, **kwargs)"
   ]
  },
  {
   "cell_type": "code",
   "execution_count": 41,
   "metadata": {
    "execution": {
     "iopub.execute_input": "2020-12-07T04:15:33.050088Z",
     "iopub.status.busy": "2020-12-07T04:15:33.050088Z",
     "iopub.status.idle": "2020-12-07T04:15:33.054077Z",
     "shell.execute_reply": "2020-12-07T04:15:33.054077Z",
     "shell.execute_reply.started": "2020-12-07T04:15:33.050088Z"
    }
   },
   "outputs": [],
   "source": [
    "def xsemininet(c_in=3, n_out=1000, **kwargs):\n",
    "    layers = [1, 1, 1, 1]\n",
    "    return _xseresnet(1, layers, c_in=c_in, n_out=n_out, **kwargs)"
   ]
  },
  {
   "cell_type": "code",
   "execution_count": null,
   "metadata": {},
   "outputs": [],
   "source": []
  },
  {
   "cell_type": "code",
   "execution_count": null,
   "metadata": {},
   "outputs": [],
   "source": []
  },
  {
   "cell_type": "code",
   "execution_count": null,
   "metadata": {},
   "outputs": [],
   "source": []
  },
  {
   "cell_type": "code",
   "execution_count": null,
   "metadata": {},
   "outputs": [],
   "source": []
  },
  {
   "cell_type": "code",
   "execution_count": null,
   "metadata": {},
   "outputs": [],
   "source": []
  },
  {
   "cell_type": "code",
   "execution_count": null,
   "metadata": {},
   "outputs": [],
   "source": []
  },
  {
   "cell_type": "code",
   "execution_count": null,
   "metadata": {},
   "outputs": [],
   "source": []
  },
  {
   "cell_type": "code",
   "execution_count": null,
   "metadata": {},
   "outputs": [],
   "source": []
  },
  {
   "cell_type": "code",
   "execution_count": null,
   "metadata": {},
   "outputs": [],
   "source": []
  },
  {
   "cell_type": "code",
   "execution_count": null,
   "metadata": {},
   "outputs": [],
   "source": []
  },
  {
   "cell_type": "code",
   "execution_count": null,
   "metadata": {},
   "outputs": [],
   "source": []
  },
  {
   "cell_type": "code",
   "execution_count": null,
   "metadata": {},
   "outputs": [],
   "source": []
  },
  {
   "cell_type": "code",
   "execution_count": null,
   "metadata": {},
   "outputs": [],
   "source": []
  },
  {
   "cell_type": "code",
   "execution_count": null,
   "metadata": {},
   "outputs": [],
   "source": []
  },
  {
   "cell_type": "code",
   "execution_count": null,
   "metadata": {},
   "outputs": [],
   "source": []
  }
 ],
 "metadata": {
  "kernelspec": {
   "display_name": "Python 3",
   "language": "python",
   "name": "python3"
  },
  "language_info": {
   "codemirror_mode": {
    "name": "ipython",
    "version": 3
   },
   "file_extension": ".py",
   "mimetype": "text/x-python",
   "name": "python",
   "nbconvert_exporter": "python",
   "pygments_lexer": "ipython3",
   "version": "3.7.3"
  }
 },
 "nbformat": 4,
 "nbformat_minor": 4
}
