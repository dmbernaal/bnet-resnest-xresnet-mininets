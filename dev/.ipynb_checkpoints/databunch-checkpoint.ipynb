{
 "cells": [
  {
   "cell_type": "code",
   "execution_count": 2,
   "metadata": {
    "execution": {
     "iopub.execute_input": "2020-12-07T04:23:37.860618Z",
     "iopub.status.busy": "2020-12-07T04:23:37.860618Z",
     "iopub.status.idle": "2020-12-07T04:23:38.030181Z",
     "shell.execute_reply": "2020-12-07T04:23:38.030181Z",
     "shell.execute_reply.started": "2020-12-07T04:23:37.860618Z"
    }
   },
   "outputs": [],
   "source": [
    "import PIL\n",
    "import torch\n",
    "from torch.utils.data import Dataset, DataLoader\n",
    "import torchvision.transforms as transforms"
   ]
  },
  {
   "cell_type": "code",
   "execution_count": 21,
   "metadata": {
    "execution": {
     "iopub.execute_input": "2020-12-07T04:29:44.403904Z",
     "iopub.status.busy": "2020-12-07T04:29:44.403904Z",
     "iopub.status.idle": "2020-12-07T04:29:44.407892Z",
     "shell.execute_reply": "2020-12-07T04:29:44.407892Z",
     "shell.execute_reply.started": "2020-12-07T04:29:44.403904Z"
    }
   },
   "outputs": [],
   "source": [
    "import os\n",
    "from pathlib import Path\n",
    "import random"
   ]
  },
  {
   "cell_type": "code",
   "execution_count": 7,
   "metadata": {
    "execution": {
     "iopub.execute_input": "2020-12-07T04:24:31.316899Z",
     "iopub.status.busy": "2020-12-07T04:24:31.316899Z",
     "iopub.status.idle": "2020-12-07T04:24:31.319918Z",
     "shell.execute_reply": "2020-12-07T04:24:31.319918Z",
     "shell.execute_reply.started": "2020-12-07T04:24:31.316899Z"
    }
   },
   "outputs": [],
   "source": [
    "ROOT = Path('./data/imagenette2-160/')"
   ]
  },
  {
   "cell_type": "code",
   "execution_count": 58,
   "metadata": {
    "execution": {
     "iopub.execute_input": "2020-12-07T05:36:33.960854Z",
     "iopub.status.busy": "2020-12-07T05:36:33.959856Z",
     "iopub.status.idle": "2020-12-07T05:36:33.964843Z",
     "shell.execute_reply": "2020-12-07T05:36:33.964843Z",
     "shell.execute_reply.started": "2020-12-07T05:36:33.960854Z"
    }
   },
   "outputs": [],
   "source": [
    "def default_tfms(size):\n",
    "    tfms = transforms.Compose([\n",
    "        transforms.Resize((size, size)),\n",
    "        transforms.ToTensor(),\n",
    "        transforms.Normalize(\n",
    "            mean=[0.485, 0.456, 0.406],\n",
    "            std=[0.229, 0.224, 0.225])\n",
    "    ])\n",
    "    return tfms"
   ]
  },
  {
   "cell_type": "code",
   "execution_count": 65,
   "metadata": {
    "execution": {
     "iopub.execute_input": "2020-12-07T05:37:15.050699Z",
     "iopub.status.busy": "2020-12-07T05:37:15.050699Z",
     "iopub.status.idle": "2020-12-07T05:37:15.059703Z",
     "shell.execute_reply": "2020-12-07T05:37:15.059703Z",
     "shell.execute_reply.started": "2020-12-07T05:37:15.050699Z"
    }
   },
   "outputs": [],
   "source": [
    "class ImageNette(Dataset):\n",
    "    def __init__(self, ROOT, train=True, shuffle=True, tfms=None):\n",
    "        self.tfms = default_tfms(size=128) if tfms is None else tfms\n",
    "        self.ROOT = ROOT\n",
    "        self.path = ROOT/'train' if train==True else ROOT/'val'\n",
    "        \n",
    "        self.n2c = {v:i for i,v in enumerate(os.listdir(self.path))}\n",
    "        self.c2n = {v:k for k,v in self.n2c.items()}\n",
    "        \n",
    "        data = []\n",
    "        for c in self.n2c.keys():\n",
    "            p2fol = os.path.join(self.path, c)\n",
    "            for f in os.listdir(p2fol):\n",
    "                p2im = os.path.join(p2fol, f)\n",
    "                data.append(p2im)\n",
    "                \n",
    "        self.data = data\n",
    "        if shuffle: random.shuffle(self.data)\n",
    "        \n",
    "    def __len__(self): return len(self.data)\n",
    "    \n",
    "    def __getitem__(self, idx):\n",
    "        p2im = self.data[idx]\n",
    "        im = PIL.Image.open(p2im)\n",
    "        if self.tfms: im = self.tfms(im)\n",
    "        y = self.get_cls(p2im)\n",
    "        y = torch.Tensor([float(y)]).squeeze(0).long()\n",
    "        return im, y\n",
    "        \n",
    "    def get_cls(self, p2im): \n",
    "        cname = p2im.split('\\\\')[3]\n",
    "        return self.n2c[cname]"
   ]
  },
  {
   "cell_type": "code",
   "execution_count": 70,
   "metadata": {
    "execution": {
     "iopub.execute_input": "2020-12-07T05:41:53.637754Z",
     "iopub.status.busy": "2020-12-07T05:41:53.637754Z",
     "iopub.status.idle": "2020-12-07T05:41:53.643737Z",
     "shell.execute_reply": "2020-12-07T05:41:53.642741Z",
     "shell.execute_reply.started": "2020-12-07T05:41:53.637754Z"
    }
   },
   "outputs": [],
   "source": [
    "class DataBunch:\n",
    "    def __init__(self, root, bs=32, tfms=None, num_workers=0):\n",
    "        self.train_ds = ImageNette(root, train=True, tfms=tfms)\n",
    "        self.valid_ds = ImageNette(root, train=False, tfms=tfms)\n",
    "        \n",
    "        self.train_dl = DataLoader(\n",
    "            self.train_ds, batch_size=bs, num_workers=num_workers, shuffle=True)\n",
    "        \n",
    "        self.valid_dl = DataLoader(\n",
    "            self.valid_ds, batch_size=bs, num_workers=num_workers, shuffle=False)"
   ]
  },
  {
   "cell_type": "code",
   "execution_count": 71,
   "metadata": {
    "execution": {
     "iopub.execute_input": "2020-12-07T05:41:58.989852Z",
     "iopub.status.busy": "2020-12-07T05:41:58.989852Z",
     "iopub.status.idle": "2020-12-07T05:41:59.081667Z",
     "shell.execute_reply": "2020-12-07T05:41:59.081667Z",
     "shell.execute_reply.started": "2020-12-07T05:41:58.989852Z"
    }
   },
   "outputs": [],
   "source": [
    "data = DataBunch(ROOT)"
   ]
  },
  {
   "cell_type": "code",
   "execution_count": 1,
   "metadata": {
    "execution": {
     "iopub.execute_input": "2020-12-07T05:46:41.063609Z",
     "iopub.status.busy": "2020-12-07T05:46:41.063609Z",
     "iopub.status.idle": "2020-12-07T05:46:41.564836Z",
     "shell.execute_reply": "2020-12-07T05:46:41.564836Z",
     "shell.execute_reply.started": "2020-12-07T05:46:41.063609Z"
    }
   },
   "outputs": [],
   "source": [
    "from bnet.databunch import DataBunch\n",
    "from pathlib import Path"
   ]
  },
  {
   "cell_type": "code",
   "execution_count": 2,
   "metadata": {
    "execution": {
     "iopub.execute_input": "2020-12-07T05:46:42.306584Z",
     "iopub.status.busy": "2020-12-07T05:46:42.306584Z",
     "iopub.status.idle": "2020-12-07T05:46:42.374487Z",
     "shell.execute_reply": "2020-12-07T05:46:42.374487Z",
     "shell.execute_reply.started": "2020-12-07T05:46:42.306584Z"
    }
   },
   "outputs": [],
   "source": [
    "root = Path('./data/imagenette2-160/')\n",
    "data = DataBunch(root)"
   ]
  },
  {
   "cell_type": "code",
   "execution_count": 3,
   "metadata": {
    "execution": {
     "iopub.execute_input": "2020-12-07T05:46:50.993502Z",
     "iopub.status.busy": "2020-12-07T05:46:50.992504Z",
     "iopub.status.idle": "2020-12-07T05:46:51.202034Z",
     "shell.execute_reply": "2020-12-07T05:46:51.202034Z",
     "shell.execute_reply.started": "2020-12-07T05:46:50.993502Z"
    }
   },
   "outputs": [],
   "source": [
    "xb, yb = next(iter(data.train_dl))"
   ]
  },
  {
   "cell_type": "code",
   "execution_count": 4,
   "metadata": {
    "execution": {
     "iopub.execute_input": "2020-12-07T05:46:53.336806Z",
     "iopub.status.busy": "2020-12-07T05:46:53.336806Z",
     "iopub.status.idle": "2020-12-07T05:46:53.343788Z",
     "shell.execute_reply": "2020-12-07T05:46:53.343788Z",
     "shell.execute_reply.started": "2020-12-07T05:46:53.336806Z"
    }
   },
   "outputs": [
    {
     "data": {
      "text/plain": [
       "torch.Size([32, 3, 128, 128])"
      ]
     },
     "execution_count": 4,
     "metadata": {},
     "output_type": "execute_result"
    }
   ],
   "source": [
    "xb.shape"
   ]
  },
  {
   "cell_type": "code",
   "execution_count": 5,
   "metadata": {
    "execution": {
     "iopub.execute_input": "2020-12-07T05:46:54.812667Z",
     "iopub.status.busy": "2020-12-07T05:46:54.812667Z",
     "iopub.status.idle": "2020-12-07T05:46:54.817339Z",
     "shell.execute_reply": "2020-12-07T05:46:54.816350Z",
     "shell.execute_reply.started": "2020-12-07T05:46:54.812667Z"
    }
   },
   "outputs": [
    {
     "data": {
      "text/plain": [
       "torch.Size([32])"
      ]
     },
     "execution_count": 5,
     "metadata": {},
     "output_type": "execute_result"
    }
   ],
   "source": [
    "yb.shape"
   ]
  },
  {
   "cell_type": "code",
   "execution_count": null,
   "metadata": {},
   "outputs": [],
   "source": []
  }
 ],
 "metadata": {
  "kernelspec": {
   "display_name": "Python 3",
   "language": "python",
   "name": "python3"
  },
  "language_info": {
   "codemirror_mode": {
    "name": "ipython",
    "version": 3
   },
   "file_extension": ".py",
   "mimetype": "text/x-python",
   "name": "python",
   "nbconvert_exporter": "python",
   "pygments_lexer": "ipython3",
   "version": "3.7.3"
  }
 },
 "nbformat": 4,
 "nbformat_minor": 4
}
