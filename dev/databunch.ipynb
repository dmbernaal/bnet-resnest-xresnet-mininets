{
 "cells": [
  {
   "cell_type": "code",
   "execution_count": 1,
   "metadata": {
    "execution": {
     "iopub.execute_input": "2020-12-07T07:06:38.983017Z",
     "iopub.status.busy": "2020-12-07T07:06:38.983017Z",
     "iopub.status.idle": "2020-12-07T07:06:39.518703Z",
     "shell.execute_reply": "2020-12-07T07:06:39.518703Z",
     "shell.execute_reply.started": "2020-12-07T07:06:38.983017Z"
    }
   },
   "outputs": [],
   "source": [
    "import PIL\n",
    "import torch\n",
    "from torch.utils.data import Dataset, DataLoader\n",
    "import torchvision.transforms as transforms"
   ]
  },
  {
   "cell_type": "code",
   "execution_count": 2,
   "metadata": {
    "execution": {
     "iopub.execute_input": "2020-12-07T07:06:39.519697Z",
     "iopub.status.busy": "2020-12-07T07:06:39.519697Z",
     "iopub.status.idle": "2020-12-07T07:06:39.522689Z",
     "shell.execute_reply": "2020-12-07T07:06:39.522689Z",
     "shell.execute_reply.started": "2020-12-07T07:06:39.519697Z"
    }
   },
   "outputs": [],
   "source": [
    "import os\n",
    "from pathlib import Path\n",
    "import random"
   ]
  },
  {
   "cell_type": "code",
   "execution_count": 3,
   "metadata": {
    "execution": {
     "iopub.execute_input": "2020-12-07T07:06:39.523687Z",
     "iopub.status.busy": "2020-12-07T07:06:39.523687Z",
     "iopub.status.idle": "2020-12-07T07:06:39.528673Z",
     "shell.execute_reply": "2020-12-07T07:06:39.528673Z",
     "shell.execute_reply.started": "2020-12-07T07:06:39.523687Z"
    }
   },
   "outputs": [],
   "source": [
    "ROOT = Path('./data/imagenette2-160/')"
   ]
  },
  {
   "cell_type": "code",
   "execution_count": 4,
   "metadata": {
    "execution": {
     "iopub.execute_input": "2020-12-07T07:06:40.005399Z",
     "iopub.status.busy": "2020-12-07T07:06:40.005399Z",
     "iopub.status.idle": "2020-12-07T07:06:40.009419Z",
     "shell.execute_reply": "2020-12-07T07:06:40.009419Z",
     "shell.execute_reply.started": "2020-12-07T07:06:40.005399Z"
    }
   },
   "outputs": [],
   "source": [
    "def default_tfms(size):\n",
    "    tfms = transforms.Compose([\n",
    "        transforms.Resize((size, size)),\n",
    "        transforms.ToTensor(),\n",
    "        transforms.Normalize(\n",
    "            mean=[0.485, 0.456, 0.406],\n",
    "            std=[0.229, 0.224, 0.225])\n",
    "    ])\n",
    "    return tfms"
   ]
  },
  {
   "cell_type": "code",
   "execution_count": 50,
   "metadata": {
    "execution": {
     "iopub.execute_input": "2020-12-07T07:24:29.074352Z",
     "iopub.status.busy": "2020-12-07T07:24:29.073354Z",
     "iopub.status.idle": "2020-12-07T07:24:29.085322Z",
     "shell.execute_reply": "2020-12-07T07:24:29.085322Z",
     "shell.execute_reply.started": "2020-12-07T07:24:29.074352Z"
    }
   },
   "outputs": [],
   "source": [
    "class ImageNette(Dataset):\n",
    "    def __init__(self, ROOT, train=True, shuffle=True, tfms=None):\n",
    "        self._train_ = train\n",
    "        self.tfms = default_tfms(size=128) if tfms is None else tfms\n",
    "        self.ROOT = ROOT\n",
    "        self.path = ROOT/'train' if train==True else ROOT/'val'\n",
    "        \n",
    "        self.n2c = {v:i for i,v in enumerate(os.listdir(self.path))}\n",
    "        self.c2n = {v:k for k,v in self.n2c.items()}\n",
    "        \n",
    "        data = []\n",
    "        for c in self.n2c.keys():\n",
    "            p2fol = os.path.join(self.path, c)\n",
    "            for f in os.listdir(p2fol):\n",
    "                p2im = os.path.join(p2fol, f)\n",
    "                data.append(p2im)\n",
    "                \n",
    "        self.data = data\n",
    "        self.jpeg_filter()\n",
    "        if shuffle: random.shuffle(self.data)\n",
    "        \n",
    "    def __len__(self): return len(self.data)\n",
    "    \n",
    "    def __getitem__(self, idx):\n",
    "        p2im = self.data[idx]\n",
    "        im = PIL.Image.open(p2im)\n",
    "        if self.tfms: im = self.tfms(im)\n",
    "        y = self.get_cls(p2im)\n",
    "        y = torch.Tensor([float(y)]).squeeze(0).long()\n",
    "        return im, y\n",
    "        \n",
    "    def get_cls(self, p2im): \n",
    "        cname = p2im.split('\\\\')[3]\n",
    "        return self.n2c[cname]\n",
    "    \n",
    "    def jpeg_filter(self):\n",
    "        \"\"\"\n",
    "        Removing grayscale\n",
    "        \"\"\"\n",
    "        print(f\"Removing grayscale from: {'train' if self._train_ else 'valid'} dataset\")\n",
    "        keep = []\n",
    "        n = len(self.data)\n",
    "        for i in tqdm(range(n)):\n",
    "            im = PIL.Image.open(self.data[i])\n",
    "            nc = len(np.array(im).shape)\n",
    "            if nc==3: keep.append(self.data[i])\n",
    "                \n",
    "        self.data = keep\n",
    "        return self"
   ]
  },
  {
   "cell_type": "code",
   "execution_count": 51,
   "metadata": {
    "execution": {
     "iopub.execute_input": "2020-12-07T07:24:29.603091Z",
     "iopub.status.busy": "2020-12-07T07:24:29.603091Z",
     "iopub.status.idle": "2020-12-07T07:24:29.608077Z",
     "shell.execute_reply": "2020-12-07T07:24:29.608077Z",
     "shell.execute_reply.started": "2020-12-07T07:24:29.603091Z"
    }
   },
   "outputs": [],
   "source": [
    "class DataBunch:\n",
    "    def __init__(self, root, bs=32, tfms=None, num_workers=0):\n",
    "        self.train_ds = ImageNette(root, train=True, tfms=tfms)\n",
    "        self.valid_ds = ImageNette(root, train=False, tfms=tfms)\n",
    "        \n",
    "        self.train_dl = DataLoader(\n",
    "            self.train_ds, batch_size=bs, num_workers=num_workers, shuffle=True)\n",
    "        \n",
    "        self.valid_dl = DataLoader(\n",
    "            self.valid_ds, batch_size=bs, num_workers=num_workers, shuffle=False)"
   ]
  },
  {
   "cell_type": "code",
   "execution_count": 52,
   "metadata": {
    "execution": {
     "iopub.execute_input": "2020-12-07T07:24:29.968144Z",
     "iopub.status.busy": "2020-12-07T07:24:29.968144Z",
     "iopub.status.idle": "2020-12-07T07:24:38.367887Z",
     "shell.execute_reply": "2020-12-07T07:24:38.367887Z",
     "shell.execute_reply.started": "2020-12-07T07:24:29.968144Z"
    }
   },
   "outputs": [
    {
     "name": "stdout",
     "output_type": "stream",
     "text": [
      "Removing grayscale from: train dataset\n"
     ]
    },
    {
     "data": {
      "application/vnd.jupyter.widget-view+json": {
       "model_id": "f1ff2a55f73a4a419e3aa8ea5a813347",
       "version_major": 2,
       "version_minor": 0
      },
      "text/plain": [
       "HBox(children=(FloatProgress(value=0.0, max=9469.0), HTML(value='')))"
      ]
     },
     "metadata": {},
     "output_type": "display_data"
    },
    {
     "name": "stdout",
     "output_type": "stream",
     "text": [
      "\n",
      "Removing grayscale from: valid dataset\n"
     ]
    },
    {
     "data": {
      "application/vnd.jupyter.widget-view+json": {
       "model_id": "f98c1dd3f4a54b3d9feac031148474b7",
       "version_major": 2,
       "version_minor": 0
      },
      "text/plain": [
       "HBox(children=(FloatProgress(value=0.0, max=3925.0), HTML(value='')))"
      ]
     },
     "metadata": {},
     "output_type": "display_data"
    },
    {
     "name": "stdout",
     "output_type": "stream",
     "text": [
      "\n"
     ]
    }
   ],
   "source": [
    "data = DataBunch(ROOT)"
   ]
  },
  {
   "cell_type": "code",
   "execution_count": 56,
   "metadata": {
    "execution": {
     "iopub.execute_input": "2020-12-07T07:25:42.947725Z",
     "iopub.status.busy": "2020-12-07T07:25:42.947725Z",
     "iopub.status.idle": "2020-12-07T07:25:49.628755Z",
     "shell.execute_reply": "2020-12-07T07:25:49.628755Z",
     "shell.execute_reply.started": "2020-12-07T07:25:42.947725Z"
    }
   },
   "outputs": [
    {
     "data": {
      "application/vnd.jupyter.widget-view+json": {
       "model_id": "ef46997fb5d94f9a8a714bacff949760",
       "version_major": 2,
       "version_minor": 0
      },
      "text/plain": [
       "HBox(children=(FloatProgress(value=0.0, max=121.0), HTML(value='')))"
      ]
     },
     "metadata": {},
     "output_type": "display_data"
    },
    {
     "name": "stdout",
     "output_type": "stream",
     "text": [
      "\n"
     ]
    }
   ],
   "source": [
    "for xb, yb in tqdm(data.valid_dl):\n",
    "    pass"
   ]
  },
  {
   "cell_type": "code",
   "execution_count": 18,
   "metadata": {
    "execution": {
     "iopub.execute_input": "2020-12-07T07:08:43.342974Z",
     "iopub.status.busy": "2020-12-07T07:08:43.342974Z",
     "iopub.status.idle": "2020-12-07T07:08:43.346963Z",
     "shell.execute_reply": "2020-12-07T07:08:43.346963Z",
     "shell.execute_reply.started": "2020-12-07T07:08:43.342974Z"
    }
   },
   "outputs": [],
   "source": [
    "im = PIL.Image.open(data.train_ds.data[8])"
   ]
  },
  {
   "cell_type": "code",
   "execution_count": 19,
   "metadata": {
    "execution": {
     "iopub.execute_input": "2020-12-07T07:12:26.897221Z",
     "iopub.status.busy": "2020-12-07T07:12:26.897221Z",
     "iopub.status.idle": "2020-12-07T07:12:26.900213Z",
     "shell.execute_reply": "2020-12-07T07:12:26.900213Z",
     "shell.execute_reply.started": "2020-12-07T07:12:26.897221Z"
    }
   },
   "outputs": [],
   "source": [
    "import numpy as np"
   ]
  },
  {
   "cell_type": "code",
   "execution_count": 21,
   "metadata": {
    "execution": {
     "iopub.execute_input": "2020-12-07T07:12:46.076900Z",
     "iopub.status.busy": "2020-12-07T07:12:46.076900Z",
     "iopub.status.idle": "2020-12-07T07:12:46.080913Z",
     "shell.execute_reply": "2020-12-07T07:12:46.080913Z",
     "shell.execute_reply.started": "2020-12-07T07:12:46.076900Z"
    }
   },
   "outputs": [
    {
     "data": {
      "text/plain": [
       "(160, 213, 3)"
      ]
     },
     "execution_count": 21,
     "metadata": {},
     "output_type": "execute_result"
    }
   ],
   "source": [
    "np.array(im).shape"
   ]
  },
  {
   "cell_type": "code",
   "execution_count": 28,
   "metadata": {
    "execution": {
     "iopub.execute_input": "2020-12-07T07:15:10.649436Z",
     "iopub.status.busy": "2020-12-07T07:15:10.648412Z",
     "iopub.status.idle": "2020-12-07T07:15:10.652432Z",
     "shell.execute_reply": "2020-12-07T07:15:10.652432Z",
     "shell.execute_reply.started": "2020-12-07T07:15:10.649436Z"
    }
   },
   "outputs": [],
   "source": [
    "from tqdm.notebook import tqdm as tqdm"
   ]
  },
  {
   "cell_type": "code",
   "execution_count": 29,
   "metadata": {
    "execution": {
     "iopub.execute_input": "2020-12-07T07:15:10.813052Z",
     "iopub.status.busy": "2020-12-07T07:15:10.813052Z",
     "iopub.status.idle": "2020-12-07T07:15:23.100894Z",
     "shell.execute_reply": "2020-12-07T07:15:23.100894Z",
     "shell.execute_reply.started": "2020-12-07T07:15:10.813052Z"
    }
   },
   "outputs": [
    {
     "data": {
      "application/vnd.jupyter.widget-view+json": {
       "model_id": "9d8a7747a045438bb8a9a8c9728f002d",
       "version_major": 2,
       "version_minor": 0
      },
      "text/plain": [
       "HBox(children=(FloatProgress(value=0.0, max=9469.0), HTML(value='')))"
      ]
     },
     "metadata": {},
     "output_type": "display_data"
    },
    {
     "name": "stdout",
     "output_type": "stream",
     "text": [
      "\n"
     ]
    }
   ],
   "source": [
    "t = {}\n",
    "n = len(data.train_ds.data)\n",
    "for i in tqdm(range(n)):\n",
    "    im = PIL.Image.open(data.train_ds.data[i])\n",
    "    c = np.array(im).shape[-1]\n",
    "    if c not in t: t[c]=1\n",
    "\n",
    "        else: t[c]+=1"
   ]
  },
  {
   "cell_type": "code",
   "execution_count": 36,
   "metadata": {
    "execution": {
     "iopub.execute_input": "2020-12-07T07:20:12.535515Z",
     "iopub.status.busy": "2020-12-07T07:20:12.534517Z",
     "iopub.status.idle": "2020-12-07T07:20:18.435935Z",
     "shell.execute_reply": "2020-12-07T07:20:18.435935Z",
     "shell.execute_reply.started": "2020-12-07T07:20:12.535515Z"
    }
   },
   "outputs": [
    {
     "data": {
      "application/vnd.jupyter.widget-view+json": {
       "model_id": "3ba8a0d710f2401e9ac100b10b25afe6",
       "version_major": 2,
       "version_minor": 0
      },
      "text/plain": [
       "HBox(children=(FloatProgress(value=0.0, max=9469.0), HTML(value='')))"
      ]
     },
     "metadata": {},
     "output_type": "display_data"
    },
    {
     "name": "stdout",
     "output_type": "stream",
     "text": [
      "\n"
     ]
    }
   ],
   "source": [
    "keep = []\n",
    "n = len(data.train_ds.data)\n",
    "for i in tqdm(range(n)):\n",
    "    im = PIL.Image.open(data.train_ds.data[i])\n",
    "    nc = len(np.array(im).shape)\n",
    "    if nc==3: keep.append(data.train_ds.data[i])"
   ]
  },
  {
   "cell_type": "code",
   "execution_count": 38,
   "metadata": {
    "execution": {
     "iopub.execute_input": "2020-12-07T07:20:22.275027Z",
     "iopub.status.busy": "2020-12-07T07:20:22.275027Z",
     "iopub.status.idle": "2020-12-07T07:20:22.278050Z",
     "shell.execute_reply": "2020-12-07T07:20:22.278050Z",
     "shell.execute_reply.started": "2020-12-07T07:20:22.275027Z"
    }
   },
   "outputs": [
    {
     "data": {
      "text/plain": [
       "9296"
      ]
     },
     "execution_count": 38,
     "metadata": {},
     "output_type": "execute_result"
    }
   ],
   "source": [
    "def jpeg_filter(data):\n",
    "    keep = []\n",
    "    n = len(data)\n",
    "    for i in tqdm(range(n)):\n",
    "        im = PIL.Image.open(data[i])\n",
    "        nc = len(np.array(im).shape)\n",
    "        if nc==3: keep.append(data[i])"
   ]
  },
  {
   "cell_type": "code",
   "execution_count": null,
   "metadata": {},
   "outputs": [],
   "source": []
  },
  {
   "cell_type": "code",
   "execution_count": null,
   "metadata": {},
   "outputs": [],
   "source": []
  },
  {
   "cell_type": "code",
   "execution_count": null,
   "metadata": {},
   "outputs": [],
   "source": []
  },
  {
   "cell_type": "code",
   "execution_count": null,
   "metadata": {},
   "outputs": [],
   "source": []
  },
  {
   "cell_type": "code",
   "execution_count": 1,
   "metadata": {
    "execution": {
     "iopub.execute_input": "2020-12-07T05:46:41.063609Z",
     "iopub.status.busy": "2020-12-07T05:46:41.063609Z",
     "iopub.status.idle": "2020-12-07T05:46:41.564836Z",
     "shell.execute_reply": "2020-12-07T05:46:41.564836Z",
     "shell.execute_reply.started": "2020-12-07T05:46:41.063609Z"
    }
   },
   "outputs": [],
   "source": [
    "from bnet.databunch import DataBunch\n",
    "from pathlib import Path"
   ]
  },
  {
   "cell_type": "code",
   "execution_count": 2,
   "metadata": {
    "execution": {
     "iopub.execute_input": "2020-12-07T05:46:42.306584Z",
     "iopub.status.busy": "2020-12-07T05:46:42.306584Z",
     "iopub.status.idle": "2020-12-07T05:46:42.374487Z",
     "shell.execute_reply": "2020-12-07T05:46:42.374487Z",
     "shell.execute_reply.started": "2020-12-07T05:46:42.306584Z"
    }
   },
   "outputs": [],
   "source": [
    "root = Path('./data/imagenette2-160/')\n",
    "data = DataBunch(root)"
   ]
  },
  {
   "cell_type": "code",
   "execution_count": 3,
   "metadata": {
    "execution": {
     "iopub.execute_input": "2020-12-07T05:46:50.993502Z",
     "iopub.status.busy": "2020-12-07T05:46:50.992504Z",
     "iopub.status.idle": "2020-12-07T05:46:51.202034Z",
     "shell.execute_reply": "2020-12-07T05:46:51.202034Z",
     "shell.execute_reply.started": "2020-12-07T05:46:50.993502Z"
    }
   },
   "outputs": [],
   "source": [
    "xb, yb = next(iter(data.train_dl))"
   ]
  },
  {
   "cell_type": "code",
   "execution_count": 4,
   "metadata": {
    "execution": {
     "iopub.execute_input": "2020-12-07T05:46:53.336806Z",
     "iopub.status.busy": "2020-12-07T05:46:53.336806Z",
     "iopub.status.idle": "2020-12-07T05:46:53.343788Z",
     "shell.execute_reply": "2020-12-07T05:46:53.343788Z",
     "shell.execute_reply.started": "2020-12-07T05:46:53.336806Z"
    }
   },
   "outputs": [
    {
     "data": {
      "text/plain": [
       "torch.Size([32, 3, 128, 128])"
      ]
     },
     "execution_count": 4,
     "metadata": {},
     "output_type": "execute_result"
    }
   ],
   "source": [
    "xb.shape"
   ]
  },
  {
   "cell_type": "code",
   "execution_count": 5,
   "metadata": {
    "execution": {
     "iopub.execute_input": "2020-12-07T05:46:54.812667Z",
     "iopub.status.busy": "2020-12-07T05:46:54.812667Z",
     "iopub.status.idle": "2020-12-07T05:46:54.817339Z",
     "shell.execute_reply": "2020-12-07T05:46:54.816350Z",
     "shell.execute_reply.started": "2020-12-07T05:46:54.812667Z"
    }
   },
   "outputs": [
    {
     "data": {
      "text/plain": [
       "torch.Size([32])"
      ]
     },
     "execution_count": 5,
     "metadata": {},
     "output_type": "execute_result"
    }
   ],
   "source": [
    "yb.shape"
   ]
  },
  {
   "cell_type": "code",
   "execution_count": null,
   "metadata": {},
   "outputs": [],
   "source": []
  },
  {
   "cell_type": "code",
   "execution_count": null,
   "metadata": {},
   "outputs": [],
   "source": []
  },
  {
   "cell_type": "code",
   "execution_count": null,
   "metadata": {},
   "outputs": [],
   "source": []
  },
  {
   "cell_type": "code",
   "execution_count": null,
   "metadata": {},
   "outputs": [],
   "source": []
  },
  {
   "cell_type": "code",
   "execution_count": null,
   "metadata": {},
   "outputs": [],
   "source": []
  },
  {
   "cell_type": "code",
   "execution_count": null,
   "metadata": {},
   "outputs": [],
   "source": []
  },
  {
   "cell_type": "code",
   "execution_count": null,
   "metadata": {},
   "outputs": [],
   "source": []
  },
  {
   "cell_type": "code",
   "execution_count": null,
   "metadata": {},
   "outputs": [],
   "source": []
  },
  {
   "cell_type": "code",
   "execution_count": null,
   "metadata": {},
   "outputs": [],
   "source": []
  },
  {
   "cell_type": "code",
   "execution_count": null,
   "metadata": {},
   "outputs": [],
   "source": []
  },
  {
   "cell_type": "code",
   "execution_count": null,
   "metadata": {},
   "outputs": [],
   "source": []
  },
  {
   "cell_type": "code",
   "execution_count": null,
   "metadata": {},
   "outputs": [],
   "source": []
  },
  {
   "cell_type": "code",
   "execution_count": null,
   "metadata": {},
   "outputs": [],
   "source": []
  },
  {
   "cell_type": "code",
   "execution_count": null,
   "metadata": {},
   "outputs": [],
   "source": []
  }
 ],
 "metadata": {
  "kernelspec": {
   "display_name": "Python 3",
   "language": "python",
   "name": "python3"
  },
  "language_info": {
   "codemirror_mode": {
    "name": "ipython",
    "version": 3
   },
   "file_extension": ".py",
   "mimetype": "text/x-python",
   "name": "python",
   "nbconvert_exporter": "python",
   "pygments_lexer": "ipython3",
   "version": "3.7.3"
  }
 },
 "nbformat": 4,
 "nbformat_minor": 4
}
