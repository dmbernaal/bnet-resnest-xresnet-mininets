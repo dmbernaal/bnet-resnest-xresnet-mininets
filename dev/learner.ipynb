{
 "cells": [
  {
   "cell_type": "code",
   "execution_count": 1,
   "metadata": {
    "execution": {
     "iopub.execute_input": "2020-12-07T06:27:36.926032Z",
     "iopub.status.busy": "2020-12-07T06:27:36.926032Z",
     "iopub.status.idle": "2020-12-07T06:27:36.935665Z",
     "shell.execute_reply": "2020-12-07T06:27:36.935039Z",
     "shell.execute_reply.started": "2020-12-07T06:27:36.926032Z"
    }
   },
   "outputs": [],
   "source": [
    "import torch\n",
    "import torch.optim as optim\n",
    "import torch.nn as nn\n",
    "import torch.nn.functional as F\n",
    "from torch_lr_finder import LRFinder"
   ]
  },
  {
   "cell_type": "code",
   "execution_count": 15,
   "metadata": {
    "execution": {
     "iopub.execute_input": "2020-12-08T05:40:04.072978Z",
     "iopub.status.busy": "2020-12-08T05:40:04.072978Z",
     "iopub.status.idle": "2020-12-08T05:40:04.076967Z",
     "shell.execute_reply": "2020-12-08T05:40:04.076967Z",
     "shell.execute_reply.started": "2020-12-08T05:40:04.072978Z"
    }
   },
   "outputs": [],
   "source": [
    "import torch\n",
    "import fastai\n",
    "import fastcore\n",
    "import torchvision\n",
    "import tqdm\n",
    "import pandas\n",
    "import matplotlib"
   ]
  },
  {
   "cell_type": "code",
   "execution_count": 19,
   "metadata": {
    "execution": {
     "iopub.execute_input": "2020-12-08T05:40:47.758216Z",
     "iopub.status.busy": "2020-12-08T05:40:47.758216Z",
     "iopub.status.idle": "2020-12-08T05:40:47.762207Z",
     "shell.execute_reply": "2020-12-08T05:40:47.762207Z",
     "shell.execute_reply.started": "2020-12-08T05:40:47.758216Z"
    }
   },
   "outputs": [
    {
     "data": {
      "text/plain": [
       "'0.7.0'"
      ]
     },
     "execution_count": 19,
     "metadata": {},
     "output_type": "execute_result"
    }
   ],
   "source": [
    "torchvision.__version__"
   ]
  },
  {
   "cell_type": "code",
   "execution_count": 3,
   "metadata": {
    "execution": {
     "iopub.execute_input": "2020-12-07T06:27:59.212561Z",
     "iopub.status.busy": "2020-12-07T06:27:59.212561Z",
     "iopub.status.idle": "2020-12-07T06:27:59.217578Z",
     "shell.execute_reply": "2020-12-07T06:27:59.217578Z",
     "shell.execute_reply.started": "2020-12-07T06:27:59.212561Z"
    }
   },
   "outputs": [],
   "source": [
    "def update_lr(optimizer, lr):\n",
    "    for pg in optimizer.param_groups:\n",
    "        pg['lr'] = lr\n",
    "        \n",
    "def update_optimizer(optimizer, **params):\n",
    "    for p in params:\n",
    "        for pg in optimizer.param_groups:\n",
    "            pg[p] = params[p]\n",
    "        \n",
    "def get_lr(optimizer):\n",
    "    for pg in optimizer.param_groups: return pg['lr']"
   ]
  },
  {
   "cell_type": "code",
   "execution_count": 5,
   "metadata": {
    "execution": {
     "iopub.execute_input": "2020-12-07T06:29:14.291819Z",
     "iopub.status.busy": "2020-12-07T06:29:14.291819Z",
     "iopub.status.idle": "2020-12-07T06:29:14.294834Z",
     "shell.execute_reply": "2020-12-07T06:29:14.294834Z",
     "shell.execute_reply.started": "2020-12-07T06:29:14.291819Z"
    }
   },
   "outputs": [],
   "source": [
    "def accuracy(out, yb):\n",
    "    preds = torch.softmax(out,1).argmax(1)\n",
    "    ground_truth = yb\n",
    "    correct = (ground_truth==preds).sum().item()\n",
    "    return correct"
   ]
  },
  {
   "cell_type": "code",
   "execution_count": 4,
   "metadata": {
    "execution": {
     "iopub.execute_input": "2020-12-07T06:28:22.099632Z",
     "iopub.status.busy": "2020-12-07T06:28:22.098636Z",
     "iopub.status.idle": "2020-12-07T06:28:22.109604Z",
     "shell.execute_reply": "2020-12-07T06:28:22.109604Z",
     "shell.execute_reply.started": "2020-12-07T06:28:22.098636Z"
    }
   },
   "outputs": [],
   "source": [
    "class Learner:\n",
    "    def __init__(self, data, model, opt_fn=None, loss_fn=None, metrics=None, lr=None, wd=None, device='cuda:0', **kwargs):\n",
    "        self.data, self.model = data, model\n",
    "        self.lr = 1e-4 if lr is None else lr\n",
    "        self.wd = 0. if wd is None else wd\n",
    "        self.opt_fn = optim.Adam(model.parameters(), lr=self.lr, weight_decay=self.wd, **kwargs) if opt_fn is None else opt_fn\n",
    "        self.loss_fn = nn.CrossEntropyLoss() if loss_fn is None else loss_fn\n",
    "        self.metric_fn = accuracy if metrics is None else metrics\n",
    "        self.device = torch.device(device)\n",
    "        \n",
    "    def save_model(self, path2save): torch.save(self.model.state_dict(), str(path2save))\n",
    "    def load_model(self, path2weights): self.model.load_state_dict(torch.load(path2weights))\n",
    "    def lr_finder(self, end_lr=100, num_iter=100):\n",
    "        lr_finder = LRFinder(self.model, self.opt_fn, self.loss_fn, device=self.device)\n",
    "        lr_finder.range_test(self.data.train_dl, end_lr=end_lr, num_iter=num_iter)\n",
    "        lr_finder.plot()\n",
    "        lr_finder.reset()\n",
    "        \n",
    "    def update_lr(self, lr): update_lr(self.opt_fn, lr)\n",
    "        \n",
    "    def update_opt(self, **params): update_optimizer(self.opt_fn, **parms)\n",
    "    \n",
    "    def freeze(self, m=None):\n",
    "        \"\"\"\n",
    "        TODO: change up model topology to be cosistant with: stem | body | head\n",
    "        This will allow for us to freeze individual parts or comb of parts instead of freezing the entire model\n",
    "        \"\"\"\n",
    "        m = self.model if m is None else m\n",
    "        for pg in m.parameters():\n",
    "            pg.requires_grad_(False)\n",
    "            \n",
    "    def unfreeze(self, m=None):\n",
    "        \"\"\"\n",
    "        TODO: same as above\n",
    "        \"\"\"\n",
    "        m = self.model if m is None else m\n",
    "        for pg in m.parameters():\n",
    "            pg.requires_grad_(True)\n",
    "            "
   ]
  },
  {
   "cell_type": "code",
   "execution_count": null,
   "metadata": {},
   "outputs": [],
   "source": []
  },
  {
   "cell_type": "code",
   "execution_count": null,
   "metadata": {},
   "outputs": [],
   "source": []
  },
  {
   "cell_type": "code",
   "execution_count": null,
   "metadata": {},
   "outputs": [],
   "source": []
  },
  {
   "cell_type": "code",
   "execution_count": null,
   "metadata": {},
   "outputs": [],
   "source": []
  },
  {
   "cell_type": "code",
   "execution_count": null,
   "metadata": {},
   "outputs": [],
   "source": []
  },
  {
   "cell_type": "code",
   "execution_count": null,
   "metadata": {},
   "outputs": [],
   "source": []
  },
  {
   "cell_type": "code",
   "execution_count": null,
   "metadata": {},
   "outputs": [],
   "source": []
  },
  {
   "cell_type": "code",
   "execution_count": null,
   "metadata": {},
   "outputs": [],
   "source": []
  },
  {
   "cell_type": "code",
   "execution_count": null,
   "metadata": {},
   "outputs": [],
   "source": []
  },
  {
   "cell_type": "code",
   "execution_count": null,
   "metadata": {},
   "outputs": [],
   "source": []
  },
  {
   "cell_type": "code",
   "execution_count": null,
   "metadata": {},
   "outputs": [],
   "source": []
  },
  {
   "cell_type": "code",
   "execution_count": null,
   "metadata": {},
   "outputs": [],
   "source": []
  },
  {
   "cell_type": "code",
   "execution_count": null,
   "metadata": {},
   "outputs": [],
   "source": []
  },
  {
   "cell_type": "code",
   "execution_count": null,
   "metadata": {},
   "outputs": [],
   "source": []
  },
  {
   "cell_type": "code",
   "execution_count": null,
   "metadata": {},
   "outputs": [],
   "source": []
  },
  {
   "cell_type": "code",
   "execution_count": null,
   "metadata": {},
   "outputs": [],
   "source": []
  },
  {
   "cell_type": "code",
   "execution_count": null,
   "metadata": {},
   "outputs": [],
   "source": []
  },
  {
   "cell_type": "code",
   "execution_count": null,
   "metadata": {},
   "outputs": [],
   "source": []
  },
  {
   "cell_type": "code",
   "execution_count": null,
   "metadata": {},
   "outputs": [],
   "source": []
  },
  {
   "cell_type": "code",
   "execution_count": null,
   "metadata": {},
   "outputs": [],
   "source": []
  },
  {
   "cell_type": "code",
   "execution_count": null,
   "metadata": {},
   "outputs": [],
   "source": []
  },
  {
   "cell_type": "code",
   "execution_count": null,
   "metadata": {},
   "outputs": [],
   "source": []
  },
  {
   "cell_type": "code",
   "execution_count": null,
   "metadata": {},
   "outputs": [],
   "source": []
  }
 ],
 "metadata": {
  "kernelspec": {
   "display_name": "Python 3",
   "language": "python",
   "name": "python3"
  },
  "language_info": {
   "codemirror_mode": {
    "name": "ipython",
    "version": 3
   },
   "file_extension": ".py",
   "mimetype": "text/x-python",
   "name": "python",
   "nbconvert_exporter": "python",
   "pygments_lexer": "ipython3",
   "version": "3.7.3"
  }
 },
 "nbformat": 4,
 "nbformat_minor": 4
}
